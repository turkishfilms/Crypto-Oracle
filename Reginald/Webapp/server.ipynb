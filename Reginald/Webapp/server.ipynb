{
 "cells": [
  {
   "cell_type": "code",
   "execution_count": 1,
   "metadata": {},
   "outputs": [],
   "source": [
    "\n",
    "import json \n",
    "import threading\n",
    "import time\n",
    "from joblib import load\n",
    "\n",
    "from flask import Flask, render_template\n",
    "from flask_cors import CORS\n",
    "\n",
    "from api_scripts.binance import get_binance_prices \n",
    "from api_scripts.coin_gecko import get_coingecko_prices \n",
    "from api_scripts.coin_layer import get_coinlayer_prices "
   ]
  },
  {
   "cell_type": "code",
   "execution_count": null,
   "metadata": {},
   "outputs": [],
   "source": []
  },
  {
   "cell_type": "code",
   "execution_count": 2,
   "metadata": {},
   "outputs": [
    {
     "name": "stdout",
     "output_type": "stream",
     "text": [
      "{'btc': {'model': LinearRegression(), 'regressor': LinearRegression()}, 'ltc': {'model': LinearRegression(), 'regressor': LinearRegression()}, 'eth': {'model': LinearRegression(), 'regressor': LinearRegression()}, 'ada': {'model': LinearRegression(), 'regressor': LinearRegression()}, 'usdt': {'model': LinearRegression(), 'regressor': LinearRegression()}}\n",
      "LinearRegression()\n"
     ]
    },
    {
     "ename": "AttributeError",
     "evalue": "'LinearRegression' object has no attribute 'info'",
     "output_type": "error",
     "traceback": [
      "\u001b[1;31m---------------------------------------------------------------------------\u001b[0m",
      "\u001b[1;31mAttributeError\u001b[0m                            Traceback (most recent call last)",
      "Cell \u001b[1;32mIn[2], line 81\u001b[0m\n\u001b[0;32m     78\u001b[0m btcm \u001b[39m=\u001b[39m mlss[\u001b[39m\"\u001b[39m\u001b[39mbtc\u001b[39m\u001b[39m\"\u001b[39m][\u001b[39m\"\u001b[39m\u001b[39mmodel\u001b[39m\u001b[39m\"\u001b[39m]\n\u001b[0;32m     80\u001b[0m \u001b[39mprint\u001b[39m(btcm)\n\u001b[1;32m---> 81\u001b[0m btcm\u001b[39m.\u001b[39;49minfo()\n\u001b[0;32m     83\u001b[0m \u001b[39mdef\u001b[39;00m \u001b[39mmodel_preds\u001b[39m():\n\u001b[0;32m     84\u001b[0m     \u001b[39mprint\u001b[39m(\u001b[39m\"\u001b[39m\u001b[39mhey model_predd\u001b[39m\u001b[39m\"\u001b[39m,\u001b[39m\"\u001b[39m\u001b[39mno\u001b[39m\u001b[39m\"\u001b[39m)\n",
      "\u001b[1;31mAttributeError\u001b[0m: 'LinearRegression' object has no attribute 'info'"
     ]
    }
   ],
   "source": [
    "\n",
    "def format_cgd(cgd):\n",
    "    dataf = {}\n",
    "    for coin in cgd:\n",
    "        if(coin[\"Symbol\"]==\"btc\"):\n",
    "             dataf[\"BTC\"] = coin[\"Price\"]\n",
    "        if(coin[\"Symbol\"]==\"ltc\"):\n",
    "             dataf[\"LTC\"] = coin[\"Price\"]\n",
    "        if(coin[\"Symbol\"]==\"ada\"):\n",
    "             dataf[\"ADA\"] = coin[\"Price\"]\n",
    "        if(coin[\"Symbol\"]==\"eth\"):\n",
    "             dataf[\"ETH\"] = coin[\"Price\"]\n",
    "        if(coin[\"Symbol\"]==\"usdt\"):\n",
    "             dataf[\"USDT\"] = coin[\"Price\"]\n",
    "    \n",
    "    return dataf\n",
    "    \n",
    "def format_bd(bd):\n",
    "        return {\"BTC\":float(bd[\"BTCUSD\"]),\"LTC\":float(bd[\"LTCUSD\"]),\"ADA\":float(bd[\"ADAUSD\"]),\"ETH\":float(bd[\"ETHUSD\"]),\"USDT\":float(bd[\"USDTUSD\"]),}\n",
    "\n",
    "def opportunity(buy,price,sell,cost,coin):\n",
    "    return{\"coin\":coin,\n",
    "    \"sellerMarket\":buy,\n",
    "    \"buyPrice\":price,\n",
    "    \"buyerMarket\":sell,\n",
    "    \"sellPrice\":cost }\n",
    "    \n",
    "def compare(m1,m2,coin):\n",
    "    m1price = m1[\"data\"][coin]\n",
    "    m2price = m2[\"data\"][coin]\n",
    "    if(m1price != m2price): \n",
    "        if(m1price< m2price): \n",
    "            return opportunity(m1[\"Name\"],m1price,m2[\"Name\"],m2price,coin)\n",
    "        else:\n",
    "            return opportunity(m2[\"Name\"],m2price,m1[\"Name\"],m1price,coin)\n",
    "    else: \n",
    "        return False\n",
    "    \n",
    "def generate_arbitrage_opportunities(live):\n",
    "    if live == False:\n",
    "        print(\"stale\")\n",
    "        with open(\"jsons/cgarb.json\",\"r\") as f:\n",
    "            cgd = json.load(f)\n",
    "        with open(\"jsons/barb.json\",\"r\") as f:\n",
    "            bd = json.load(f)\n",
    "        with open(\"jsons/clarb.json\",\"r\") as f:\n",
    "            clfd = json.load(f)[\"rates\"]\n",
    "    else:\n",
    "        cgd = get_coingecko_prices()\n",
    "        bd = get_binance_prices()\n",
    "        clfd = json.loads(get_coinlayer_prices())[\"rates\"]\n",
    "\n",
    "    clf = {\"Name\":\"CoinLayer\",\"data\":clfd}\n",
    "    cgf = {\"Name\":\"CoinGecko\",\"data\":format_cgd(cgd)}\n",
    "    bf = {\"Name\":\"Binance\",\"data\":format_bd(bd)}\n",
    "\n",
    "    opportunities = []\n",
    "    for coin in clf[\"data\"]:\n",
    "        comps = [ compare(clf,cgf,coin),\n",
    "             compare(clf,bf,coin),\n",
    "             compare(cgf,bf,coin)]\n",
    "            \n",
    "        for comp in comps:\n",
    "            if comp != 0:\n",
    "                opportunities.append(comp)\n",
    "    return opportunities\n",
    "\n",
    "def retrieveModels():\n",
    "    coins = ['btc','ltc','eth','ada','usdt']\n",
    "    mls = {}\n",
    "\n",
    "    for coin in coins:\n",
    "        mls[coin] = {\"model\":load(f\"ml/models/model_{coin}.joblib\"),\n",
    "        \"regressor\":load(f\"ml/regressors/regressor_{coin}.joblib\")}\n",
    "    print(mls)    \n",
    "    return mls\n",
    "\n",
    "mlss = retrieveModels()\n",
    "btcm = mlss[\"btc\"][\"model\"]\n",
    "\n",
    "print(btcm)\n",
    "btcm.\n",
    "\n",
    "def model_preds():\n",
    "    print(\"hey model_predd\",\"no\")\n",
    "    return \"no\"\n"
   ]
  },
  {
   "cell_type": "code",
   "execution_count": 4,
   "metadata": {},
   "outputs": [
    {
     "name": "stdout",
     "output_type": "stream",
     "text": [
      "stale\n",
      " * Serving Flask app '__main__'\n",
      " * Debug mode: off\n"
     ]
    },
    {
     "name": "stderr",
     "output_type": "stream",
     "text": [
      "WARNING: This is a development server. Do not use it in a production deployment. Use a production WSGI server instead.\n",
      " * Running on http://127.0.0.1:5000\n",
      "Press CTRL+C to quit\n",
      "127.0.0.1 - - [03/Jun/2023 12:47:01] \"GET / HTTP/1.1\" 200 -\n",
      "127.0.0.1 - - [03/Jun/2023 13:14:29] \"GET / HTTP/1.1\" 200 -\n"
     ]
    }
   ],
   "source": [
    "app = Flask(__name__)\n",
    "\n",
    "CORS(app,resources={r\"/*\": {\"origins\": [\"https://turkishfilms.github.io\"]}})\n",
    "\n",
    "data2 = {\"data\":generate_arbitrage_opportunities(False)}\n",
    "\n",
    "def get_data_five_minutes():\n",
    "    while True:\n",
    "        data2[\"data\"] = generate_arbitrage_opportunities(True)\n",
    "        time.sleep(300) \n",
    "\n",
    "@app.route('/')\n",
    "def home():\n",
    "   return render_template('index.html',data=data2[\"data\"])\n",
    "\n",
    "@app.route('/learn')\n",
    "def a():\n",
    "    return render_template('learn.html')\n",
    "\n",
    "@app.route('/predictions')\n",
    "def b():\n",
    "    return render_template('predictions.html',data=json.dumps(model_preds()))\n",
    "\n",
    "if(__name__ == \"__main__\"):\n",
    "    t = threading.Thread(target=get_data_five_minutes)\n",
    "    t.start()\n",
    "    app.run()"
   ]
  }
 ],
 "metadata": {
  "kernelspec": {
   "display_name": "Python 3",
   "language": "python",
   "name": "python3"
  },
  "language_info": {
   "codemirror_mode": {
    "name": "ipython",
    "version": 3
   },
   "file_extension": ".py",
   "mimetype": "text/x-python",
   "name": "python",
   "nbconvert_exporter": "python",
   "pygments_lexer": "ipython3",
   "version": "3.11.3"
  },
  "orig_nbformat": 4
 },
 "nbformat": 4,
 "nbformat_minor": 2
}
