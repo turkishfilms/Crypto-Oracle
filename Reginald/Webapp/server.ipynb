{
 "cells": [
  {
   "cell_type": "code",
   "execution_count": 1,
   "metadata": {},
   "outputs": [],
   "source": [
    "from flask import Flask, render_template\n",
    "from flask_cors import CORS\n",
    "import json \n",
    "from coin_gecko import get_coingecko_prices\n",
    "from binance import get_binance_prices\n",
    "from coin_layer import get_coinlayer_prices"
   ]
  },
  {
   "cell_type": "code",
   "execution_count": 7,
   "metadata": {},
   "outputs": [],
   "source": [
    "with open(\"dataa.json\",\"r\") as f:\n",
    "    data2 = json.load(f)\n",
    "\n",
    "def model_preds():\n",
    "    print(\"hey model_predd\",data2)\n",
    "    return data2\n",
    "\n",
    "def format_cgd(cgd):\n",
    "    dataf = {}\n",
    "    for coin in cgd:\n",
    "        if(coin[\"Symbol\"]==\"btc\"):\n",
    "             dataf[\"BTC\"] = coin[\"Price\"]\n",
    "        if(coin[\"Symbol\"]==\"ltc\"):\n",
    "             dataf[\"LTC\"] = coin[\"Price\"]\n",
    "        if(coin[\"Symbol\"]==\"ada\"):\n",
    "             dataf[\"ADA\"] = coin[\"Price\"]\n",
    "        if(coin[\"Symbol\"]==\"eth\"):\n",
    "             dataf[\"ETH\"] = coin[\"Price\"]\n",
    "        if(coin[\"Symbol\"]==\"usdt\"):\n",
    "             dataf[\"USDT\"] = coin[\"Price\"]\n",
    "    \n",
    "    return dataf\n",
    "    \n",
    "def format_bd(bd):\n",
    "        return {\"BTC\":float(bd[\"BTCUSD\"]),\"LTC\":float(bd[\"LTCUSD\"]),\"ADA\":float(bd[\"ADAUSD\"]),\"ETH\":float(bd[\"ETHUSD\"]),\"USDT\":float(bd[\"USDTUSD\"]),}\n",
    "\n",
    "def opportunity(buy,price,sell,cost,coin):\n",
    "    return{\"coin\":coin,\n",
    "    \"sellerMarket\":buy,\n",
    "    \"buyPrice\":price,\n",
    "    \"buyerMarket\":sell,\n",
    "    \"sellPrice\":cost }\n",
    "    \n",
    "\n",
    "def compare(m1,m2,coin):\n",
    "    m1price = m1[\"data\"][coin]\n",
    "    m2price = m2[\"data\"][coin]\n",
    "    if(m1price != m2price): \n",
    "        if(m1price< m2price): \n",
    "            return opportunity(m1[\"Name\"],m1price,m2[\"Name\"],m2price,coin)\n",
    "        else:\n",
    "            return opportunity(m2[\"Name\"],m2price,m1[\"Name\"],m1price,coin)\n",
    "    else: \n",
    "        return False\n",
    "    \n",
    "def generate_arbitrage_opportunities():\n",
    "    opportunities = []\n",
    "\n",
    "    with open(\"cgarb.json\",\"r\") as f:\n",
    "        cgd = json.load(f)\n",
    "    with open(\"barb.json\",\"r\") as f:\n",
    "        bd = json.load(f)\n",
    "    with open(\"clarb.json\",\"r\") as f:\n",
    "        clfd = json.load(f)[\"rates\"]\n",
    "\n",
    "    # cgd = get_coingecko_prices()\n",
    "    # print(\"cgd\",cgd)\n",
    "    # bd = get_binance_prices()\n",
    "    # print(\"bd\",bd)\n",
    "    # clfdo = get_coinlayer_prices()\n",
    "    # print(\"clfdo\",clfdo)\n",
    "    # clfd = clfdo[\"rates\"]\n",
    "    # print(\"clfd\",clfd)\n",
    "\n",
    "    cgfd = format_cgd(cgd)\n",
    "    bfd = format_bd(bd)\n",
    "    \n",
    "    clf = {\"Name\":\"CoinLayer\",\"data\":clfd}\n",
    "    cgf = {\"Name\":\"CoinGecko\",\"data\":cgfd}\n",
    "    bf = {\"Name\":\"Binance\",\"data\":bfd}\n",
    "\n",
    "    for coin in clf[\"data\"]:\n",
    "        comps = [ compare(clf,cgf,coin),\n",
    "             compare(clf,bf,coin),\n",
    "             compare(cgf,bf,coin)]\n",
    "            \n",
    "        for comp in comps:\n",
    "            if comp != 0:\n",
    "                opportunities.append(comp)\n",
    "    return opportunities\n"
   ]
  },
  {
   "cell_type": "code",
   "execution_count": 3,
   "metadata": {},
   "outputs": [],
   "source": [
    "# generate_arbitrage_opportunities()"
   ]
  },
  {
   "cell_type": "code",
   "execution_count": 13,
   "metadata": {},
   "outputs": [
    {
     "name": "stdout",
     "output_type": "stream",
     "text": [
      " * Serving Flask app '__main__'\n",
      " * Debug mode: off\n"
     ]
    },
    {
     "name": "stderr",
     "output_type": "stream",
     "text": [
      "WARNING: This is a development server. Do not use it in a production deployment. Use a production WSGI server instead.\n",
      " * Running on http://127.0.0.1:5000\n",
      "Press CTRL+C to quit\n",
      "127.0.0.1 - - [03/Jun/2023 11:39:33] \"GET / HTTP/1.1\" 200 -\n"
     ]
    }
   ],
   "source": [
    "app = Flask(__name__)\n",
    "\n",
    "CORS(app,resources={r\"/*\": {\"origins\": [\"https://turkishfilms.github.io\"]}})\n",
    "data2 =generate_arbitrage_opportunities()\n",
    "\n",
    "\n",
    "\n",
    "\n",
    "@app.route('/')\n",
    "def home():\n",
    "   \n",
    "   return render_template('index.html',data=data2)\n",
    "\n",
    "@app.route('/learn')\n",
    "def a():\n",
    "    return render_template('learn.html')\n",
    "\n",
    "@app.route('/predictions')\n",
    "def b():\n",
    "    model_predictions = model_preds()\n",
    "    return render_template('predictions.html',data=json.dumps(model_predictions))\n",
    "\n",
    "@app.route('/preds')\n",
    "def predictCoinTrend():\n",
    "    return json.dumps(data2)\n",
    "\n",
    "if(__name__ == \"__main__\"):\n",
    "    app.run()"
   ]
  }
 ],
 "metadata": {
  "kernelspec": {
   "display_name": "Python 3",
   "language": "python",
   "name": "python3"
  },
  "language_info": {
   "codemirror_mode": {
    "name": "ipython",
    "version": 3
   },
   "file_extension": ".py",
   "mimetype": "text/x-python",
   "name": "python",
   "nbconvert_exporter": "python",
   "pygments_lexer": "ipython3",
   "version": "3.11.3"
  },
  "orig_nbformat": 4
 },
 "nbformat": 4,
 "nbformat_minor": 2
}
