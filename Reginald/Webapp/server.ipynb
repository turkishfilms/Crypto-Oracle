{
 "cells": [
  {
   "cell_type": "code",
   "execution_count": 2,
   "metadata": {},
   "outputs": [],
   "source": [
    "from flask import Flask, render_template\n",
    "from flask_cors import CORS\n",
    "import json \n",
    "from coin_gecko import get_coingecko_prices\n",
    "from binance import get_binance_prices\n",
    "from coin_layer import get_coinlayer_prices"
   ]
  },
  {
   "cell_type": "code",
   "execution_count": 10,
   "metadata": {},
   "outputs": [],
   "source": [
    "with open(\"dataa.json\",\"r\") as f:\n",
    "    data2 = json.load(f)\n",
    "\n",
    "def model_preds():\n",
    "    print(\"hey model_predd\",data2)\n",
    "    return data2\n",
    "\n",
    "\n",
    "\n",
    "def opportunity(buy,price,sell,cost,currency):\n",
    "    return {\"buy\":buy ,\"price\":price ,\"sell\":sell ,\"cost\":cost ,\"currency\":currency}\n",
    "\n",
    "def compare(m1,m2,coin):\n",
    "    \n",
    "    if(m1 == \"cl\"):\n",
    "        if(coin == )\n",
    "    return \n",
    "\n",
    "def generate_arbitrage_opportunities():\n",
    "    opportunities = []\n",
    "    with open(\"cgarb.json\",\"r\") as f:\n",
    "        cgd = json.load(f)\n",
    "    with open(\"barb.json\",\"r\") as f:\n",
    "        bd = json.load(f)\n",
    "    with open(\"clarb.json\",\"r\") as f:\n",
    "        cld = json.load(f)[\"rates\"]\n",
    "\n",
    "\n",
    "    for coin in cgd:\n",
    "        if(coin[\"Symbol\"]==\"btc\"):\n",
    "            compare(\"cl\",'cg','btc')\n",
    "            compare(\"cl\",'b,','btc')\n",
    "            compare(\"cg\",'b','btc')\n",
    "\n",
    "            pass\n",
    "        if(coin[\"Symbol\"]==\"ltc\"):\n",
    "            pass\n",
    "        if(coin[\"Symbol\"]==\"ada\"):\n",
    "            pass\n",
    "        if(coin[\"Symbol\"]==\"eth\"):\n",
    "            pass\n",
    "        if(coin[\"Symbol\"]==\"usdt\"):\n",
    "            pass\n",
    "\n",
    "    \n",
    "        \n",
    "    return opportunities\n"
   ]
  },
  {
   "cell_type": "code",
   "execution_count": 11,
   "metadata": {},
   "outputs": [
    {
     "name": "stdout",
     "output_type": "stream",
     "text": [
      "[{'Symbol': 'btc', 'Price': 26957}, {'Symbol': 'eth', 'Price': 1877.18}, {'Symbol': 'usdt', 'Price': 1.0}, {'Symbol': 'ada', 'Price': 0.372}, {'Symbol': 'ltc', 'Price': 94.98}] {'BTCUSD': '26989.04000000', 'ETHUSD': '1878.91000000', 'LTCUSD': '95.09000000', 'USDTUSD': '1.00000000', 'ADAUSD': '0.37240000'} {'ADA': 0.372865, 'BTC': 27017.558556, 'ETH': 1881.9817, 'LTC': 95.049921, 'USDT': 1.005088}\n"
     ]
    },
    {
     "data": {
      "text/plain": [
       "[]"
      ]
     },
     "execution_count": 11,
     "metadata": {},
     "output_type": "execute_result"
    },
    {
     "ename": "",
     "evalue": "",
     "output_type": "error",
     "traceback": [
      "\u001b[1;31mThe Kernel crashed while executing code in the the current cell or a previous cell. Please review the code in the cell(s) to identify a possible cause of the failure. Click <a href='https://aka.ms/vscodeJupyterKernelCrash'>here</a> for more info. View Jupyter <a href='command:jupyter.viewOutput'>log</a> for further details."
     ]
    }
   ],
   "source": [
    "generate_arbitrage_opportunities()"
   ]
  },
  {
   "cell_type": "code",
   "execution_count": 12,
   "metadata": {},
   "outputs": [
    {
     "name": "stdout",
     "output_type": "stream",
     "text": [
      " * Serving Flask app '__main__'\n",
      " * Debug mode: off\n"
     ]
    },
    {
     "name": "stderr",
     "output_type": "stream",
     "text": [
      "WARNING: This is a development server. Do not use it in a production deployment. Use a production WSGI server instead.\n",
      " * Running on http://127.0.0.1:5000\n",
      "Press CTRL+C to quit\n",
      "127.0.0.1 - - [01/Jun/2023 20:29:37] \"GET /predictions HTTP/1.1\" 200 -\n"
     ]
    },
    {
     "name": "stdout",
     "output_type": "stream",
     "text": [
      "hey model_predd [{'Symbol': 'btc', 'Price': 27079}, {'Symbol': 'eth', 'Price': 1873.05}, {'Symbol': 'usdt', 'Price': 1.001}, {'Symbol': 'ada', 'Price': 0.36917}, {'Symbol': 'ltc', 'Price': 91.0}]\n"
     ]
    }
   ],
   "source": [
    "app = Flask(__name__)\n",
    "\n",
    "CORS(app,resources={r\"/*\": {\"origins\": [\"https://turkishfilms.github.io\"]}})\n",
    "data2 =0\n",
    "\n",
    "\n",
    "\n",
    "\n",
    "@app.route('/')\n",
    "def home():\n",
    "    # data2 = get_coingecko_coin_data()\n",
    "#    data2 =json.dumps([{'Symbol': 'btc', 'Price': 27079}, {'Symbol': 'eth', 'Price': 1873.05}, {'Symbol': 'usdt', 'Price': 1.001}, {'Symbol': 'ada', 'Price': 0.36917}, {'Symbol': 'ltc', 'Price': 91.0}])\n",
    "   return render_template('index.html',data=data2)\n",
    "\n",
    "@app.route('/learn')\n",
    "def a():\n",
    "    return render_template('learn.html')\n",
    "\n",
    "@app.route('/predictions')\n",
    "def b():\n",
    "    model_predictions = model_preds()\n",
    "    return render_template('predictions.html',data=json.dumps(model_predictions))\n",
    "\n",
    "@app.route('/preds')\n",
    "def predictCoinTrend():\n",
    "    return json.dumps(data2)\n",
    "\n",
    "if(__name__ == \"__main__\"):\n",
    "    app.run()"
   ]
  }
 ],
 "metadata": {
  "kernelspec": {
   "display_name": "Python 3",
   "language": "python",
   "name": "python3"
  },
  "language_info": {
   "codemirror_mode": {
    "name": "ipython",
    "version": 3
   },
   "file_extension": ".py",
   "mimetype": "text/x-python",
   "name": "python",
   "nbconvert_exporter": "python",
   "pygments_lexer": "ipython3",
   "version": "3.11.3"
  },
  "orig_nbformat": 4
 },
 "nbformat": 4,
 "nbformat_minor": 2
}
