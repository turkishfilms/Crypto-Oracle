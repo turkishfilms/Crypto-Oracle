{
 "cells": [
  {
   "cell_type": "code",
   "execution_count": 2,
   "metadata": {},
   "outputs": [],
   "source": [
    "from flask import Flask, render_template\n",
    "from flask_cors import CORS\n",
    "import json \n",
    "from coin_gecko import get_coingecko_coin_data"
   ]
  },
  {
   "cell_type": "code",
   "execution_count": 12,
   "metadata": {},
   "outputs": [
    {
     "name": "stdout",
     "output_type": "stream",
     "text": [
      " * Serving Flask app '__main__'\n",
      " * Debug mode: off\n"
     ]
    },
    {
     "name": "stderr",
     "output_type": "stream",
     "text": [
      "WARNING: This is a development server. Do not use it in a production deployment. Use a production WSGI server instead.\n",
      " * Running on http://127.0.0.1:5000\n",
      "Press CTRL+C to quit\n",
      "127.0.0.1 - - [01/Jun/2023 20:29:37] \"GET /predictions HTTP/1.1\" 200 -\n"
     ]
    },
    {
     "name": "stdout",
     "output_type": "stream",
     "text": [
      "hey model_predd [{'Symbol': 'btc', 'Price': 27079}, {'Symbol': 'eth', 'Price': 1873.05}, {'Symbol': 'usdt', 'Price': 1.001}, {'Symbol': 'ada', 'Price': 0.36917}, {'Symbol': 'ltc', 'Price': 91.0}]\n"
     ]
    }
   ],
   "source": [
    "app = Flask(__name__)\n",
    "\n",
    "CORS(app,resources={r\"/*\": {\"origins\": [\"https://turkishfilms.github.io\"]}})\n",
    "data2 =0\n",
    "\n",
    "with open(\"dataa.json\",\"r\") as f:\n",
    "    data2 = json.load(f)\n",
    "\n",
    "def model_preds():\n",
    "    print(\"hey model_predd\",data2)\n",
    "    return data2\n",
    "\n",
    "\n",
    "\n",
    "\n",
    "@app.route('/')\n",
    "def home():\n",
    "    # data2 = get_coingecko_coin_data()\n",
    "#    data2 =json.dumps([{'Symbol': 'btc', 'Price': 27079}, {'Symbol': 'eth', 'Price': 1873.05}, {'Symbol': 'usdt', 'Price': 1.001}, {'Symbol': 'ada', 'Price': 0.36917}, {'Symbol': 'ltc', 'Price': 91.0}])\n",
    "   return render_template('index.html',data=data2)\n",
    "\n",
    "@app.route('/learn')\n",
    "def a():\n",
    "    return render_template('learn.html')\n",
    "\n",
    "@app.route('/predictions')\n",
    "def b():\n",
    "    model_predictions = model_preds()\n",
    "    return render_template('predictions.html',data=json.dumps(model_predictions))\n",
    "\n",
    "@app.route('/preds')\n",
    "def predictCoinTrend():\n",
    "    return json.dumps(data2)\n",
    "\n",
    "if(__name__ == \"__main__\"):\n",
    "    app.run()"
   ]
  }
 ],
 "metadata": {
  "kernelspec": {
   "display_name": "Python 3",
   "language": "python",
   "name": "python3"
  },
  "language_info": {
   "codemirror_mode": {
    "name": "ipython",
    "version": 3
   },
   "file_extension": ".py",
   "mimetype": "text/x-python",
   "name": "python",
   "nbconvert_exporter": "python",
   "pygments_lexer": "ipython3",
   "version": "3.11.3"
  },
  "orig_nbformat": 4
 },
 "nbformat": 4,
 "nbformat_minor": 2
}
