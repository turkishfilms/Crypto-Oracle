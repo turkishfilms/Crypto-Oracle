{
 "cells": [
  {
   "cell_type": "code",
   "execution_count": 6,
   "metadata": {},
   "outputs": [
    {
     "name": "stdout",
     "output_type": "stream",
     "text": [
      "{'status': {'timestamp': '2023-05-25T02:56:02.129Z', 'error_code': 0, 'error_message': None, 'elapsed': 1, 'credit_count': 1, 'notice': None}, 'data': [{'id': 8320, 'rank': 8895, 'name': 'fmh79bf4k0k', 'symbol': 'zxg75vam76h', 'slug': 'fhbmuqogn2f', 'is_active': 7144, 'first_historical_data': '2023-05-25T02:56:02.129Z', 'last_historical_data': '2023-05-25T02:56:02.129Z', 'platform': None}, {'id': 7370, 'rank': 6240, 'name': 'xgje2ia19wa', 'symbol': 'l0fc9q8aqy', 'slug': '8asrm64zy0e', 'is_active': 7099, 'first_historical_data': '2023-05-25T02:56:02.129Z', 'last_historical_data': '2023-05-25T02:56:02.129Z', 'platform': None}, {'id': 6075, 'rank': 8012, 'name': 'zwhv0e9tpdl', 'symbol': '01j9olitlwvv', 'slug': 'bfs2n9szjdd', 'is_active': 8720, 'first_historical_data': '2023-05-25T02:56:02.129Z', 'last_historical_data': '2023-05-25T02:56:02.129Z', 'platform': None}, {'id': 9510, 'rank': 7929, 'name': 'ca6d88xfzdi', 'symbol': 'zhx9egtv13', 'slug': 'suoi0zkw8ha', 'is_active': 9626, 'first_historical_data': '2023-05-25T02:56:02.129Z', 'last_historical_data': '2023-05-25T02:56:02.129Z', 'platform': None}, {'id': 6806, 'rank': 3387, 'name': 'kckuwvyh3x', 'symbol': 'vn46ibi8cs', 'slug': 'lxxouv6oo1o', 'is_active': 2910, 'first_historical_data': '2023-05-25T02:56:02.129Z', 'last_historical_data': '2023-05-25T02:56:02.129Z', 'platform': None}, {'id': 2919, 'rank': 9169, 'name': 'l4t2xq4jfor', 'symbol': '30f4yp4ove2', 'slug': '5nhnzcfpdra', 'is_active': 9643, 'first_historical_data': '2023-05-25T02:56:02.129Z', 'last_historical_data': '2023-05-25T02:56:02.129Z', 'platform': None}, {'id': 4353, 'rank': 40, 'name': '3tkweajm0a2', 'symbol': 'mcvlezhd74b', 'slug': '6q2pzc5fcph', 'is_active': 542, 'first_historical_data': '2023-05-25T02:56:02.129Z', 'last_historical_data': '2023-05-25T02:56:02.129Z', 'platform': None}, {'id': 8949, 'rank': 83, 'name': '1xfl2psb2li', 'symbol': 'o66jp4gp8e', 'slug': 'twj2301rg1m', 'is_active': 7424, 'first_historical_data': '2023-05-25T02:56:02.129Z', 'last_historical_data': '2023-05-25T02:56:02.129Z', 'platform': None}, {'id': 4036, 'rank': 4761, 'name': '1vs0w0eiktc', 'symbol': 'o03unvok18', 'slug': 'zu0yxse7cq', 'is_active': 5025, 'first_historical_data': '2023-05-25T02:56:02.129Z', 'last_historical_data': '2023-05-25T02:56:02.129Z', 'platform': None}, {'id': 2893, 'rank': 3290, 'name': '55szfxabqbl', 'symbol': 'y6qyiu9lzc', 'slug': 'm44vlbqbtr', 'is_active': 719, 'first_historical_data': '2023-05-25T02:56:02.129Z', 'last_historical_data': '2023-05-25T02:56:02.129Z', 'platform': None}]}\n"
     ]
    }
   ],
   "source": [
    "from requests import Request, Session\n",
    "from requests.exceptions import ConnectionError, Timeout, TooManyRedirects\n",
    "import json\n",
    "from API_KEYS import cmc_api_key\n"
   ]
  },
  {
   "cell_type": "code",
   "execution_count": null,
   "metadata": {},
   "outputs": [],
   "source": [
    "\n",
    "url = 'https://sandbox-api.coinmarketcap.com/v1/cryptocurrency/map'\n",
    "parameters = {\n",
    "#   'start':'1',\n",
    "#   'limit':'5000',\n",
    "#   'convert':'USD'\n",
    "}\n",
    "headers = {\n",
    "  'Accepts': 'application/json',\n",
    "  'CMC_PRO_API_KEY': cmc_api_key,\n",
    "}\n",
    "\n",
    "session = Session()\n",
    "session.headers.update(headers)\n",
    "\n",
    "try:\n",
    "  response = session.get(url)\n",
    "  data = json.loads(response.text)\n",
    "  with open('dataMap2.json','w') as file:\n",
    "    json.dump(data,file)\n",
    "  print(data)\n",
    "except (ConnectionError, Timeout, TooManyRedirects) as e:\n",
    "  print(e)"
   ]
  },
  {
   "cell_type": "code",
   "execution_count": null,
   "metadata": {},
   "outputs": [],
   "source": []
  }
 ],
 "metadata": {
  "kernelspec": {
   "display_name": "Python 3",
   "language": "python",
   "name": "python3"
  },
  "language_info": {
   "codemirror_mode": {
    "name": "ipython",
    "version": 3
   },
   "file_extension": ".py",
   "mimetype": "text/x-python",
   "name": "python",
   "nbconvert_exporter": "python",
   "pygments_lexer": "ipython3",
   "version": "3.11.3"
  },
  "orig_nbformat": 4
 },
 "nbformat": 4,
 "nbformat_minor": 2
}
