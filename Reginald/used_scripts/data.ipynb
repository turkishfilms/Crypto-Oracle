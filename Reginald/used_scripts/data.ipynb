{
 "cells": [
  {
   "cell_type": "code",
   "execution_count": 1,
   "metadata": {},
   "outputs": [
    {
     "name": "stdout",
     "output_type": "stream",
     "text": [
      "43eb165e-9ed5-4175-915d-461604aa4440\n"
     ]
    }
   ],
   "source": [
    "from requests import Request, Session\n",
    "from requests.exceptions import ConnectionError, Timeout, TooManyRedirects\n",
    "import json\n",
    "from API_KEYS import cmc_api_key\n",
    "print(cmc_api_key)\n"
   ]
  },
  {
   "cell_type": "code",
   "execution_count": 14,
   "metadata": {},
   "outputs": [],
   "source": [
    "\n",
    "url = 'https://sandbox-api.coinmarketcap.com/v1/cryptocurrency/listings/historical'\n",
    "parameters = {\n",
    "  'start':'1',\n",
    "  # 'limit':'5000',\n",
    "  'date':\"2019-10-10\",\n",
    "  'convert':'USD'\n",
    "}\n",
    "headers = {\n",
    "  'Accepts': 'application/json',\n",
    "  'CMC_PRO_API_KEY': cmc_api_key\n",
    "}\n",
    "session = Session()\n",
    "session.headers.update(headers)\n",
    "\n",
    "try:\n",
    "  response = session.get(url,params=parameters)\n",
    "  data = json.loads(response.text)\n",
    "  with open('collected_data/dataHist.json','w') as file:\n",
    "    json.dump(data,file)\n",
    "  # print(data)\n",
    "except (ConnectionError, Timeout, TooManyRedirects) as e:\n",
    "  print(e)"
   ]
  },
  {
   "cell_type": "code",
   "execution_count": 3,
   "metadata": {},
   "outputs": [],
   "source": [
    "import coinmarketcapapi\n",
    "cmc = coinmarketcapapi.CoinMarketCapAPI(cmc_api_key)\n"
   ]
  },
  {
   "cell_type": "code",
   "execution_count": 7,
   "metadata": {},
   "outputs": [],
   "source": [
    "map_df.to_csv('coin_ids.csv')"
   ]
  },
  {
   "cell_type": "code",
   "execution_count": 15,
   "metadata": {},
   "outputs": [],
   "source": [
    "# mapids = cmc.cryptocurrency_map()\n",
    "# print(mapids)\n",
    "import pandas as pd\n",
    "# map_df = pd.DataFrame(mapids.data, columns =['name','symbol'])\n",
    "# map_df.set_index('symbol',inplace=True)\n",
    "# print(map_df)\n",
    "# with open('dataMap4.json','w') as file:\n",
    "#     json.dump(mapids,file)\n"
   ]
  },
  {
   "cell_type": "code",
   "execution_count": 2,
   "metadata": {},
   "outputs": [],
   "source": [
    "from API_KEYS import polygon_api_key\n"
   ]
  },
  {
   "cell_type": "code",
   "execution_count": 7,
   "metadata": {},
   "outputs": [],
   "source": [
    "\n",
    "headers={  'Accepts': 'application/json'}\n",
    "\n",
    "session = Session()\n",
    "session.headers.update(headers)\n",
    "\n",
    "try:\n",
    "  response = session.get(polygon_url)\n",
    "  data = json.loads(response.text)\n",
    "  with open('collected_data/dataPolyHist2btc.json','w') as file:\n",
    "    json.dump(data,file)\n",
    "  # print(data)\n",
    "except (ConnectionError, Timeout, TooManyRedirects) as e:\n",
    "  print(e)\n"
   ]
  }
 ],
 "metadata": {
  "kernelspec": {
   "display_name": "Python 3",
   "language": "python",
   "name": "python3"
  },
  "language_info": {
   "codemirror_mode": {
    "name": "ipython",
    "version": 3
   },
   "file_extension": ".py",
   "mimetype": "text/x-python",
   "name": "python",
   "nbconvert_exporter": "python",
   "pygments_lexer": "ipython3",
   "version": "3.11.3"
  },
  "orig_nbformat": 4
 },
 "nbformat": 4,
 "nbformat_minor": 2
}
