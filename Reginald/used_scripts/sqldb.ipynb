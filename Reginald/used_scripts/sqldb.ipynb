{
 "cells": [
  {
   "cell_type": "code",
   "execution_count": 33,
   "metadata": {},
   "outputs": [
    {
     "name": "stderr",
     "output_type": "stream",
     "text": [
      "C:\\Users\\ddram\\AppData\\Local\\Temp\\ipykernel_15472\\977354949.py:9: MovedIn20Warning: The ``declarative_base()`` function is now available as sqlalchemy.orm.declarative_base(). (deprecated since: 2.0) (Background on SQLAlchemy 2.0 at: https://sqlalche.me/e/b8d9)\n",
      "  Base = declarative_base()\n"
     ]
    }
   ],
   "source": [
    "import sqlalchemy\n",
    "import pandas as pd\n",
    "from sqlalchemy import create_engine, text, inspect\n",
    "from sqlalchemy import Column, Integer, String, Float, ForeignKey,Date\n",
    "from sqlalchemy.ext.declarative import declarative_base\n",
    "from sqlalchemy.orm import Session\n",
    "from uuid import uuid4\n",
    "import datetime as dt\n",
    "Base = declarative_base()"
   ]
  },
  {
   "cell_type": "code",
   "execution_count": 18,
   "metadata": {},
   "outputs": [],
   "source": [
    "def tocsv(symbol):\n",
    "    return pd.read_csv(f'../collected_data/csvs/{symbol}-USD.csv')"
   ]
  },
  {
   "cell_type": "code",
   "execution_count": 19,
   "metadata": {},
   "outputs": [],
   "source": [
    "def plot(symbol):\n",
    "    tocsv(symbol)[[\"Date\",\"Open\"]].plot()\n"
   ]
  },
  {
   "cell_type": "code",
   "execution_count": 20,
   "metadata": {},
   "outputs": [],
   "source": [
    "class Entry(Base):\n",
    "    __tablename__ = \"crypto_history\"\n",
    "    _id= Column(Integer,primary_key=True)\n",
    "    coin_name = Column(String(255))\n",
    "    date = Column(Date())\n",
    "    open = Column(Float())\n",
    "    high = Column(Float())\n",
    "    low = Column(Float())\n",
    "    close = Column(Float())\n",
    "    volume = Column(Integer())\n",
    "    "
   ]
  },
  {
   "cell_type": "code",
   "execution_count": 30,
   "metadata": {},
   "outputs": [],
   "source": [
    "def entry(ind,coin_symbol,df):\n",
    "    return Entry(coin_name = coin_symbol,date =dt.datetime.strptime(df.iloc[ind][\"Date\"],\"%Y-%m-%d\"),open =df.iloc[ind][\"Open\"],high =df.iloc[ind][\"High\"],low =df.iloc[ind][\"Low\"],close =df.iloc[ind][\"Close\"],volume =df.iloc[ind][\"Volume\"])"
   ]
  },
  {
   "cell_type": "code",
   "execution_count": 22,
   "metadata": {},
   "outputs": [],
   "source": [
    "def add_df_to_table_please(session,coin_symbol):\n",
    "    df = tocsv(coin_symbol)\n",
    "    n_rows = len(df.index)\n",
    "    for i in range(n_rows):\n",
    "        thing = entry(i,coin_symbol,df)\n",
    "        session.add(thing)\n",
    "    session.commit()"
   ]
  },
  {
   "cell_type": "code",
   "execution_count": 23,
   "metadata": {},
   "outputs": [],
   "source": [
    "engine = create_engine('sqlite:///data.sqlite')\n",
    "Base.metadata.create_all(engine)\n",
    "session = Session(bind=engine)"
   ]
  },
  {
   "cell_type": "code",
   "execution_count": 24,
   "metadata": {},
   "outputs": [],
   "source": [
    "coin_symbols = [\"BTC\",\"LTC\",\"USDT\",\"ADA\",\"ETH\"]\n"
   ]
  },
  {
   "cell_type": "code",
   "execution_count": 31,
   "metadata": {},
   "outputs": [],
   "source": [
    "\n",
    "for symbol in coin_symbols:\n",
    "    add_df_to_table_please(session,symbol)\n"
   ]
  },
  {
   "cell_type": "code",
   "execution_count": 37,
   "metadata": {},
   "outputs": [],
   "source": [
    "loop = session.query(Entry).first()"
   ]
  },
  {
   "cell_type": "code",
   "execution_count": 41,
   "metadata": {},
   "outputs": [
    {
     "data": {
      "text/plain": [
       "8036550"
      ]
     },
     "execution_count": 41,
     "metadata": {},
     "output_type": "execute_result"
    }
   ],
   "source": [
    "# for i in loop:\n",
    "    # print(i.volume)\n",
    "int.from_bytes(loop.volume, byteorder=\"little\")"
   ]
  }
 ],
 "metadata": {
  "kernelspec": {
   "display_name": "Python 3",
   "language": "python",
   "name": "python3"
  },
  "language_info": {
   "codemirror_mode": {
    "name": "ipython",
    "version": 3
   },
   "file_extension": ".py",
   "mimetype": "text/x-python",
   "name": "python",
   "nbconvert_exporter": "python",
   "pygments_lexer": "ipython3",
   "version": "3.11.3"
  },
  "orig_nbformat": 4
 },
 "nbformat": 4,
 "nbformat_minor": 2
}
