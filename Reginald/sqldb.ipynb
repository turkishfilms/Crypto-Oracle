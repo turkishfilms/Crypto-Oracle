{
 "cells": [
  {
   "cell_type": "code",
   "execution_count": null,
   "metadata": {},
   "outputs": [],
   "source": [
    "import sqlalchemy\n",
    "import pandas as pd\n",
    "from sqlalchemy import create_engine, text, inspect\n",
    "from sqlalchemy import Column, Integer, String, Float, ForeignKey,Date\n",
    "from sqlalchemy.ext.declarative import declarative_base\n",
    "from sqlalchemy.orm import Session\n",
    "from uuid import uuid4\n",
    "Base = declarative_base()\n",
    "Zamirah Jule Rehburg, Baraka Belt, Reginald Robinson"
   ]
  },
  {
   "cell_type": "code",
   "execution_count": null,
   "metadata": {},
   "outputs": [],
   "source": [
    "class Entry(Base):\n",
    "    __tablename__ = \"historic_crypto\"\n",
    "    coin_name = Column(String(255), primary_key = True)\n",
    "    Date = Date()\n",
    "    Open = Float()\n",
    "    High = Float()\n",
    "    Low = Float()\n",
    "    Close = Float()\n",
    "    Volume = Float()\n",
    "    "
   ]
  }
 ],
 "metadata": {
  "language_info": {
   "name": "python"
  },
  "orig_nbformat": 4
 },
 "nbformat": 4,
 "nbformat_minor": 2
}
