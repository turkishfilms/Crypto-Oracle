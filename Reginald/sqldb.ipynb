{
 "cells": [
  {
   "cell_type": "code",
   "execution_count": 9,
   "metadata": {},
   "outputs": [
    {
     "name": "stderr",
     "output_type": "stream",
     "text": [
      "C:\\Users\\ddram\\AppData\\Local\\Temp\\ipykernel_11624\\798195085.py:8: MovedIn20Warning: The ``declarative_base()`` function is now available as sqlalchemy.orm.declarative_base(). (deprecated since: 2.0) (Background on SQLAlchemy 2.0 at: https://sqlalche.me/e/b8d9)\n",
      "  Base = declarative_base()\n"
     ]
    }
   ],
   "source": [
    "import sqlalchemy\n",
    "import pandas as pd\n",
    "from sqlalchemy import create_engine, text, inspect\n",
    "from sqlalchemy import Column, Integer, String, Float, ForeignKey,Date\n",
    "from sqlalchemy.ext.declarative import declarative_base\n",
    "from sqlalchemy.orm import Session\n",
    "from uuid import uuid4\n",
    "Base = declarative_base()"
   ]
  },
  {
   "cell_type": "code",
   "execution_count": 10,
   "metadata": {},
   "outputs": [],
   "source": [
    "def tocsv(symbol):\n",
    "    return pd.read_csv(f'../collected_data/csvs/{symbol}-USD.csv')"
   ]
  },
  {
   "cell_type": "code",
   "execution_count": 11,
   "metadata": {},
   "outputs": [],
   "source": [
    "def plot(symbol):\n",
    "    tocsv(symbol)[[\"Date\",\"Open\"]].plot()\n"
   ]
  },
  {
   "cell_type": "code",
   "execution_count": 13,
   "metadata": {},
   "outputs": [],
   "source": [
    "class Entry(Base):\n",
    "    __tablename__ = \"crypto_history\"\n",
    "    _id= Column(Integer,primary_key=True)\n",
    "    coin_name = Column(String(255))\n",
    "    date = Date()\n",
    "    open = Float()\n",
    "    high = Float()\n",
    "    low = Float()\n",
    "    close = Float()\n",
    "    volume = Integer()\n",
    "    "
   ]
  },
  {
   "cell_type": "code",
   "execution_count": null,
   "metadata": {},
   "outputs": [],
   "source": [
    "def entry(ind,coin_symbol,df):\n",
    "    return Entry(\n",
    "    coin_name = coin_symbol\n",
    "    ,date =df.iloc[ind][\"Date\"]\n",
    "    ,open =df.iloc[ind][\"Open\"]\n",
    "    ,high =df.iloc[ind][\"High\"]\n",
    "    ,low =df.iloc[ind][\"Low\"]\n",
    "    ,close =df.iloc[ind][\"Close\"]\n",
    "    ,volume =df.iloc[ind][\"Volume\"])"
   ]
  },
  {
   "cell_type": "code",
   "execution_count": 16,
   "metadata": {},
   "outputs": [],
   "source": [
    "def add_df_to_table_please(session,coin_symbol):\n",
    "    df = tocsv(coin_symbol)\n",
    "    n_rows = len(df.index)\n",
    "    for i in range(n_rows):\n",
    "        thing = entry(i,coin_symbol,df)\n",
    "        session.add(thing)\n",
    "    session.commit()"
   ]
  },
  {
   "cell_type": "code",
   "execution_count": 15,
   "metadata": {},
   "outputs": [],
   "source": [
    "engine = create_engine('sqlite:///data.sqlite')\n",
    "Base.metadata.create_all(engine)\n",
    "session = Session(bind=engine)"
   ]
  },
  {
   "cell_type": "code",
   "execution_count": 18,
   "metadata": {},
   "outputs": [],
   "source": [
    "coin_symbols = [\"BTC\",\"LTC\",\"USDT\",\"ADA\",\"ETH\"]\n"
   ]
  },
  {
   "cell_type": "code",
   "execution_count": 19,
   "metadata": {},
   "outputs": [],
   "source": [
    "\n",
    "# for symbol in coin_symbols:\n",
    "    # add_df_to_table_please(session,symbol)\n"
   ]
  },
  {
   "cell_type": "code",
   "execution_count": 21,
   "metadata": {},
   "outputs": [],
   "source": [
    "loop = session.query(Entry).all()"
   ]
  },
  {
   "cell_type": "code",
   "execution_count": 30,
   "metadata": {},
   "outputs": [
    {
     "ename": "TypeError",
     "evalue": "int() argument must be a string, a bytes-like object or a real number, not 'Float'",
     "output_type": "error",
     "traceback": [
      "\u001b[1;31m---------------------------------------------------------------------------\u001b[0m",
      "\u001b[1;31mTypeError\u001b[0m                                 Traceback (most recent call last)",
      "Cell \u001b[1;32mIn[30], line 3\u001b[0m\n\u001b[0;32m      1\u001b[0m \u001b[39m# for i in loop:\u001b[39;00m\n\u001b[0;32m      2\u001b[0m     \u001b[39m# print(i.open)\u001b[39;00m\n\u001b[1;32m----> 3\u001b[0m \u001b[39mprint\u001b[39m(\u001b[39mint\u001b[39;49m(loop[\u001b[39m0\u001b[39;49m]\u001b[39m.\u001b[39;49mopen)\u001b[39m+\u001b[39m\u001b[39m1\u001b[39m)\n",
      "\u001b[1;31mTypeError\u001b[0m: int() argument must be a string, a bytes-like object or a real number, not 'Float'"
     ]
    }
   ],
   "source": [
    "# for i in loop:\n",
    "    # print(i.open)\n"
   ]
  }
 ],
 "metadata": {
  "kernelspec": {
   "display_name": "Python 3",
   "language": "python",
   "name": "python3"
  },
  "language_info": {
   "codemirror_mode": {
    "name": "ipython",
    "version": 3
   },
   "file_extension": ".py",
   "mimetype": "text/x-python",
   "name": "python",
   "nbconvert_exporter": "python",
   "pygments_lexer": "ipython3",
   "version": "3.11.3"
  },
  "orig_nbformat": 4
 },
 "nbformat": 4,
 "nbformat_minor": 2
}
