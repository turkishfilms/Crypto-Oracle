{
 "cells": [
  {
   "attachments": {},
   "cell_type": "markdown",
   "metadata": {},
   "source": [
    "todo\n",
    "remmove behavior from each api function\n",
    "test with more coins\n",
    "fix predictions inverted advice\n",
    "find a way to icorporporate training models\n",
    "ryan reynolds pic\n",
    "\"better\" learning section??"
   ]
  },
  {
   "cell_type": "code",
   "execution_count": 1,
   "metadata": {},
   "outputs": [],
   "source": [
    "import json \n",
    "import threading\n",
    "import time\n",
    "\n",
    "from joblib import load\n",
    "import pandas as pd\n",
    "from datetime import datetime\n",
    "from itertools import combinations\n",
    "\n",
    "from flask import Flask, render_template, jsonify\n",
    "from flask_cors import CORS\n",
    "\n",
    "from api_scripts.livecoin import get_livecoin_prices\n",
    "from api_scripts.binance import get_binance_prices \n",
    "from api_scripts.coin_gecko import get_coingecko_prices \n",
    "from api_scripts.coin_layer import get_coinlayer_prices, get_coinlayer_prices_yesterday "
   ]
  },
  {
   "cell_type": "code",
   "execution_count": 2,
   "metadata": {},
   "outputs": [],
   "source": [
    "\n",
    "def opportunity(seller_market,buy_price,buyer_market,sell_price,coin):\n",
    "    return{\"coin\":coin,\n",
    "    \"sellerMarket\":seller_market,\n",
    "    \"buyPrice\":buy_price,\n",
    "    \"buyerMarket\":buyer_market,\n",
    "    \"sellPrice\":sell_price }\n",
    "    \n",
    "\n",
    "def compare(m1,m2,coin): #add number formatting and threshold\n",
    "    m2price = main_data[\"data\"][m2][coin]\n",
    "    m1price = main_data[\"data\"][m1][coin]\n",
    "\n",
    "    if(m1price == m2price):\n",
    "        return False\n",
    "    \n",
    "    if(m1price > m2price): \n",
    "        return opportunity(m2,m2price,m1,m1price,coin)\n",
    "    else:\n",
    "        return opportunity(m1,m1price,m2,m2price,coin)\n",
    "\n",
    "\n",
    "def get_coin_prices(stale, coins,markets):\n",
    "    prices_by_market = {}\n",
    "    \n",
    "    if stale == False:\n",
    "        for market in markets:\n",
    "            prices_by_market[market] = markets[market](coins) \n",
    "    else:\n",
    "        with open(\"main_data.json\",\"r\") as cl:\n",
    "            main = json.load(cl)[\"data\"]\n",
    "        for market in markets:\n",
    "            prices_by_market[market] = main[market]\n",
    "\n",
    "    return prices_by_market\n",
    "    \n",
    "\n",
    "def gao2():\n",
    "    opportunities = []\n",
    "    for coin in coins:\n",
    "        comps = []\n",
    "        for market_pair in combinations(markets, 2):\n",
    "            comps.append(compare(market_pair[0],market_pair[1],coin))\n",
    "        for comp in comps:\n",
    "            if comp != False:\n",
    "                opportunities.append(comp)\n",
    "    return opportunities\n",
    "\n",
    "\n",
    "def get_yesterdays_data(stale):\n",
    "    if stale == True:\n",
    "        with open(\"main_data.json\",\"r\") as cl:\n",
    "            yesterdata = json.load(cl)[\"yester\"]\n",
    "    else:\n",
    "        yesterdata = get_coinlayer_prices_yesterday(coins)\n",
    "    return yesterdata\n",
    "\n",
    "\n",
    "def retrieveModels():\n",
    "    mls = {}\n",
    "    for coin in coins:\n",
    "        mls[coin] = load(f'ml/regressor_{coin}.joblib') \n",
    "    return mls\n",
    "\n",
    "\n",
    "def model_preds():\n",
    "    final_pred = {}\n",
    "    coin_data = main_data[\"yester\"]\n",
    "    for coin in coin_data:\n",
    "        final_pred[coin] = list(models[coin].predict(pd.DataFrame(coin_data[coin])))[0]\n",
    "    return final_pred"
   ]
  },
  {
   "cell_type": "code",
   "execution_count": 3,
   "metadata": {},
   "outputs": [
    {
     "ename": "FileNotFoundError",
     "evalue": "[Errno 2] No such file or directory: 'ml/regressor_AVAX.joblib'",
     "output_type": "error",
     "traceback": [
      "\u001b[1;31m---------------------------------------------------------------------------\u001b[0m",
      "\u001b[1;31mFileNotFoundError\u001b[0m                         Traceback (most recent call last)",
      "Cell \u001b[1;32mIn[3], line 9\u001b[0m\n\u001b[0;32m      1\u001b[0m coins \u001b[39m=\u001b[39m [\u001b[39m\"\u001b[39m\u001b[39mBTC\u001b[39m\u001b[39m\"\u001b[39m,\u001b[39m\"\u001b[39m\u001b[39mLTC\u001b[39m\u001b[39m\"\u001b[39m,\u001b[39m\"\u001b[39m\u001b[39mADA\u001b[39m\u001b[39m\"\u001b[39m,\u001b[39m\"\u001b[39m\u001b[39mUSDT\u001b[39m\u001b[39m\"\u001b[39m,\u001b[39m\"\u001b[39m\u001b[39mAVAX\u001b[39m\u001b[39m\"\u001b[39m,\u001b[39m\"\u001b[39m\u001b[39mDOGE\u001b[39m\u001b[39m\"\u001b[39m]\n\u001b[0;32m      2\u001b[0m markets \u001b[39m=\u001b[39m {\n\u001b[0;32m      3\u001b[0m         \u001b[39m\"\u001b[39m\u001b[39mCoinGecko\u001b[39m\u001b[39m\"\u001b[39m : get_coingecko_prices,\n\u001b[0;32m      4\u001b[0m         \u001b[39m\"\u001b[39m\u001b[39mCoinLayer\u001b[39m\u001b[39m\"\u001b[39m : get_coinlayer_prices,\n\u001b[0;32m      5\u001b[0m         \u001b[39m\"\u001b[39m\u001b[39mBinance\u001b[39m\u001b[39m\"\u001b[39m : get_binance_prices,\n\u001b[0;32m      6\u001b[0m         \u001b[39m\"\u001b[39m\u001b[39mLivecoin\u001b[39m\u001b[39m\"\u001b[39m : get_livecoin_prices\n\u001b[0;32m      7\u001b[0m     }\n\u001b[1;32m----> 9\u001b[0m models \u001b[39m=\u001b[39m retrieveModels()   \n\u001b[0;32m     10\u001b[0m main_data \u001b[39m=\u001b[39m {}\n\u001b[0;32m     11\u001b[0m main_data[\u001b[39m\"\u001b[39m\u001b[39mdata\u001b[39m\u001b[39m\"\u001b[39m] \u001b[39m=\u001b[39m get_coin_prices(\u001b[39mTrue\u001b[39;00m,coins,markets)\n",
      "Cell \u001b[1;32mIn[2], line 61\u001b[0m, in \u001b[0;36mretrieveModels\u001b[1;34m()\u001b[0m\n\u001b[0;32m     59\u001b[0m mls \u001b[39m=\u001b[39m {}\n\u001b[0;32m     60\u001b[0m \u001b[39mfor\u001b[39;00m coin \u001b[39min\u001b[39;00m coins:\n\u001b[1;32m---> 61\u001b[0m     mls[coin] \u001b[39m=\u001b[39m load(\u001b[39mf\u001b[39;49m\u001b[39m'\u001b[39;49m\u001b[39mml/regressor_\u001b[39;49m\u001b[39m{\u001b[39;49;00mcoin\u001b[39m}\u001b[39;49;00m\u001b[39m.joblib\u001b[39;49m\u001b[39m'\u001b[39;49m) \n\u001b[0;32m     62\u001b[0m \u001b[39mreturn\u001b[39;00m mls\n",
      "File \u001b[1;32md:\\programs\\python\\Lib\\site-packages\\joblib\\numpy_pickle.py:650\u001b[0m, in \u001b[0;36mload\u001b[1;34m(filename, mmap_mode)\u001b[0m\n\u001b[0;32m    648\u001b[0m         obj \u001b[39m=\u001b[39m _unpickle(fobj)\n\u001b[0;32m    649\u001b[0m \u001b[39melse\u001b[39;00m:\n\u001b[1;32m--> 650\u001b[0m     \u001b[39mwith\u001b[39;00m \u001b[39mopen\u001b[39;49m(filename, \u001b[39m'\u001b[39;49m\u001b[39mrb\u001b[39;49m\u001b[39m'\u001b[39;49m) \u001b[39mas\u001b[39;00m f:\n\u001b[0;32m    651\u001b[0m         \u001b[39mwith\u001b[39;00m _read_fileobject(f, filename, mmap_mode) \u001b[39mas\u001b[39;00m fobj:\n\u001b[0;32m    652\u001b[0m             \u001b[39mif\u001b[39;00m \u001b[39misinstance\u001b[39m(fobj, \u001b[39mstr\u001b[39m):\n\u001b[0;32m    653\u001b[0m                 \u001b[39m# if the returned file object is a string, this means we\u001b[39;00m\n\u001b[0;32m    654\u001b[0m                 \u001b[39m# try to load a pickle file generated with an version of\u001b[39;00m\n\u001b[0;32m    655\u001b[0m                 \u001b[39m# Joblib so we load it with joblib compatibility function.\u001b[39;00m\n",
      "\u001b[1;31mFileNotFoundError\u001b[0m: [Errno 2] No such file or directory: 'ml/regressor_AVAX.joblib'"
     ]
    }
   ],
   "source": [
    "coins = [\"BTC\",\"LTC\",\"ADA\",\"USDT\"]\n",
    "markets = {\n",
    "        \"CoinGecko\" : get_coingecko_prices,\n",
    "        \"CoinLayer\" : get_coinlayer_prices,\n",
    "        \"Binance\" : get_binance_prices,\n",
    "        \"Livecoin\" : get_livecoin_prices\n",
    "    }\n",
    "\n",
    "models = retrieveModels()   \n",
    "main_data = {}\n",
    "main_data[\"data\"] = get_coin_prices(True,coins,markets)\n",
    "main_data[\"ops\"] = gao2()\n",
    "main_data[\"yester\"] = get_yesterdays_data(True)\n",
    "main_data[\"pred_data\"] = model_preds()\n"
   ]
  },
  {
   "cell_type": "code",
   "execution_count": null,
   "metadata": {},
   "outputs": [
    {
     "name": "stdout",
     "output_type": "stream",
     "text": [
      " * Serving Flask app '__main__'\n",
      " * Debug mode: off\n"
     ]
    },
    {
     "name": "stderr",
     "output_type": "stream",
     "text": [
      "WARNING: This is a development server. Do not use it in a production deployment. Use a production WSGI server instead.\n",
      " * Running on http://127.0.0.1:5000\n",
      "Press CTRL+C to quit\n",
      "127.0.0.1 - - [04/Jun/2023 16:02:59] \"GET / HTTP/1.1\" 200 -\n",
      "127.0.0.1 - - [04/Jun/2023 16:03:00] \"GET /static/css/styles.css HTTP/1.1\" 304 -\n",
      "127.0.0.1 - - [04/Jun/2023 16:03:00] \"GET /static/css/background.jpg HTTP/1.1\" 304 -\n",
      "127.0.0.1 - - [04/Jun/2023 16:03:01] \"GET / HTTP/1.1\" 200 -\n",
      "127.0.0.1 - - [04/Jun/2023 16:03:01] \"GET /static/css/styles.css HTTP/1.1\" 304 -\n",
      "127.0.0.1 - - [04/Jun/2023 16:03:03] \"GET /predictions HTTP/1.1\" 200 -\n",
      "127.0.0.1 - - [04/Jun/2023 16:03:03] \"GET /static/css/styles.css HTTP/1.1\" 304 -\n"
     ]
    }
   ],
   "source": [
    "app = Flask(__name__)\n",
    "\n",
    "CORS(app,resources={r\"/*\": {\"origins\": [\"https://turkishfilms.github.io\"]}})\n",
    "\n",
    "def get_data_on_delay():\n",
    "    while True:\n",
    "        main_data[\"data\"] = get_coin_prices(False,coins,markets)\n",
    "        main_data[\"ops\"] = gao2()\n",
    "        main_data[\"yester\"] = get_yesterdays_data(False)\n",
    "        main_data[\"pred_data\"] = model_preds()\n",
    "        with open(\"main_data.json\",\"w\") as mj:\n",
    "            json.dump(main_data,mj)\n",
    "        time.sleep(14400) #four hours\n",
    "\n",
    "@app.route('/')\n",
    "def home():\n",
    "   return render_template('index.html',data=main_data[\"ops\"])\n",
    "\n",
    "@app.route('/learn')\n",
    "def a():\n",
    "    return render_template('learn.html')\n",
    "\n",
    "@app.route('/predictions')\n",
    "def b():\n",
    "    return render_template('predictions.html', data = json.dumps({\"pred_data\": main_data[\"pred_data\"], \"current_data\": main_data[\"data\"], \"yesterday_data\": main_data[\"yester\"]}))\n",
    "\n",
    "if(__name__ == \"__main__\"):\n",
    "    t = threading.Thread(target=get_data_on_delay)\n",
    "    t.start()\n",
    "    app.run()"
   ]
  }
 ],
 "metadata": {
  "kernelspec": {
   "display_name": "Python 3",
   "language": "python",
   "name": "python3"
  },
  "language_info": {
   "codemirror_mode": {
    "name": "ipython",
    "version": 3
   },
   "file_extension": ".py",
   "mimetype": "text/x-python",
   "name": "python",
   "nbconvert_exporter": "python",
   "pygments_lexer": "ipython3",
   "version": "3.11.3"
  },
  "orig_nbformat": 4
 },
 "nbformat": 4,
 "nbformat_minor": 2
}
