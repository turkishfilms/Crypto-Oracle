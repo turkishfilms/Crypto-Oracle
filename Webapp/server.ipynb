{
 "cells": [
  {
   "cell_type": "code",
   "execution_count": 1,
   "metadata": {},
   "outputs": [],
   "source": [
    "import json \n",
    "import threading\n",
    "import time\n",
    "\n",
    "from joblib import load\n",
    "import pandas as pd\n",
    "from datetime import datetime\n",
    "from itertools import combinations\n",
    "\n",
    "from flask import Flask, render_template, jsonify\n",
    "from flask_cors import CORS\n",
    "\n",
    "from api_scripts.binance import get_binance_prices \n",
    "from api_scripts.coin_gecko import get_coingecko_prices \n",
    "from api_scripts.coin_layer import get_coinlayer_prices, get_coinlayer_prices_yesterday "
   ]
  },
  {
   "cell_type": "code",
   "execution_count": 27,
   "metadata": {},
   "outputs": [],
   "source": [
    "\n",
    "def opportunity(seller_market,buy_price,buyer_market,sell_price,coin):\n",
    "    return{\"coin\":coin,\n",
    "    \"sellerMarket\":seller_market,\n",
    "    \"buyPrice\":buy_price,\n",
    "    \"buyerMarket\":buyer_market,\n",
    "    \"sellPrice\":sell_price }\n",
    "    \n",
    "def compare(m1,m2,coin): #add number formatting and threshold\n",
    "    m2price = coin_data[m2][coin]\n",
    "    m1price = coin_data[m1][coin]\n",
    "\n",
    "    if(m1price == m2price):\n",
    "        return False\n",
    "    \n",
    "    if(m1price > m2price): \n",
    "        return opportunity(m1,m1price,m2,m2price,coin)\n",
    "    else:\n",
    "        return opportunity(m2,m2price,m1,m1price,coin)\n",
    "\n",
    "\n",
    "def generate_arbitrage_opportunities(stale):\n",
    "    if stale == False:\n",
    "        cgd = get_coingecko_prices()\n",
    "        bd = get_binance_prices()\n",
    "        clfd = get_coinlayer_prices()[\"rates\"]\n",
    "    else:\n",
    "        with open(\"jsons/cgarb.json\",\"r\") as f:\n",
    "            cgd = json.load(f)\n",
    "        with open(\"jsons/barb.json\",\"r\") as f:\n",
    "            bd = json.load(f)\n",
    "        with open(\"jsons/clarb.json\",\"r\") as f:\n",
    "            clfd = json.load(f)[\"rates\"]\n",
    "\n",
    "    clf = {\"Name\": \"CoinLayer\",\"data\": clfd}\n",
    "    cgf = {\"Name\": \"CoinGecko\",\"data\": format_cgd(cgd)}\n",
    "    bf = {\"Name\": \"Binance\",\"data\": format_bd(bd)}\n",
    "\n",
    "    opportunities = []\n",
    "    for coin in clf[\"data\"]:\n",
    "\n",
    "        comps = [compare(clf,cgf,coin),\n",
    "                 compare(clf,bf,coin),\n",
    "                 compare(cgf,bf,coin)]\n",
    "            \n",
    "        for comp in comps:\n",
    "            if comp != False:\n",
    "                opportunities.append(comp)\n",
    "    return opportunities\n",
    "\n",
    "\n",
    "def get_coin_prices(stale, coins,markets):\n",
    "    prices_by_market = {}\n",
    "    \n",
    "    if stale == False:\n",
    "        for market in markets:\n",
    "            prices_by_market[market] = markets[market](coins) \n",
    "    else:\n",
    "        for market in markets:\n",
    "            with open(f\"jsons/{market}_arb.json\",\"r\") as f:\n",
    "                prices_by_market[market] = json.load(f)\n",
    "\n",
    "    return prices_by_market\n",
    "    \n",
    "\n",
    "def gao2():\n",
    "    opportunities = []\n",
    "    for coin in coins:\n",
    "        comps = []\n",
    "        for market_pair in combinations(markets, 2):\n",
    "            comps.append(compare(market_pair[0],market_pair[1],coin))\n",
    "        for comp in comps:\n",
    "            if comp != False:\n",
    "                opportunities.append(comp)\n",
    "    return opportunities\n",
    "\n",
    "def get_yesterdays_data(stale):\n",
    "    if stale == True:\n",
    "        with open(\"jsons/clarbm2.json\",\"r\") as cl:\n",
    "            yesterdata = json.load(cl)\n",
    "    else:\n",
    "        yesterdata = get_coinlayer_prices_yesterday()\n",
    "        \n",
    "    \n",
    "    return formatted_data\n",
    "\n",
    "def retrieveModels():\n",
    "    coins = ['BTC','LTC','ETH','ADA','USDT']\n",
    "    mls = {}\n",
    "    for coin in coins:\n",
    "        mls[coin] = load(f\"ml/regressor_{coin}.joblib\") \n",
    "    return mls\n",
    "\n",
    "def model_preds():\n",
    "    final_pred = {}\n",
    "    coin_data = data2[\"yester\"]\n",
    "    for coin in coin_data:\n",
    "        final_pred[coin] = list(models[coin].predict(pd.DataFrame(coin_data[coin])))[0]\n",
    "    return final_pred"
   ]
  },
  {
   "cell_type": "code",
   "execution_count": 24,
   "metadata": {},
   "outputs": [
    {
     "ename": "TypeError",
     "evalue": "make() takes 0 positional arguments but 1 was given",
     "output_type": "error",
     "traceback": [
      "\u001b[1;31m---------------------------------------------------------------------------\u001b[0m",
      "\u001b[1;31mTypeError\u001b[0m                                 Traceback (most recent call last)",
      "Cell \u001b[1;32mIn[24], line 1\u001b[0m\n\u001b[1;32m----> 1\u001b[0m make(\u001b[39m0\u001b[39;49m)\n",
      "\u001b[1;31mTypeError\u001b[0m: make() takes 0 positional arguments but 1 was given"
     ]
    }
   ],
   "source": []
  },
  {
   "cell_type": "code",
   "execution_count": 28,
   "metadata": {},
   "outputs": [
    {
     "name": "stdout",
     "output_type": "stream",
     "text": [
      "[{'coin': 'BTC', 'sellerMarket': 'CoinLayer', 'buyPrice': 27219.63083, 'buyerMarket': 'CoinGecko', 'sellPrice': 27181}, {'coin': 'BTC', 'sellerMarket': 'Binance', 'buyPrice': 27202.9, 'buyerMarket': 'CoinGecko', 'sellPrice': 27181}, {'coin': 'BTC', 'sellerMarket': 'CoinLayer', 'buyPrice': 27219.63083, 'buyerMarket': 'Binance', 'sellPrice': 27202.9}, {'coin': 'LTC', 'sellerMarket': 'CoinLayer', 'buyPrice': 95.992909, 'buyerMarket': 'CoinGecko', 'sellPrice': 95.53}, {'coin': 'LTC', 'sellerMarket': 'Binance', 'buyPrice': 95.98, 'buyerMarket': 'CoinGecko', 'sellPrice': 95.53}, {'coin': 'LTC', 'sellerMarket': 'CoinLayer', 'buyPrice': 95.992909, 'buyerMarket': 'Binance', 'sellPrice': 95.98}, {'coin': 'ETH', 'sellerMarket': 'CoinLayer', 'buyPrice': 1900.257044, 'buyerMarket': 'CoinGecko', 'sellPrice': 1898.42}, {'coin': 'ETH', 'sellerMarket': 'Binance', 'buyPrice': 1900.42, 'buyerMarket': 'CoinGecko', 'sellPrice': 1898.42}, {'coin': 'ETH', 'sellerMarket': 'Binance', 'buyPrice': 1900.42, 'buyerMarket': 'CoinLayer', 'sellPrice': 1900.257044}, {'coin': 'ADA', 'sellerMarket': 'CoinLayer', 'buyPrice': 0.382147, 'buyerMarket': 'CoinGecko', 'sellPrice': 0.380759}, {'coin': 'ADA', 'sellerMarket': 'CoinGecko', 'buyPrice': 0.380759, 'buyerMarket': 'Binance', 'sellPrice': 0.3802}, {'coin': 'ADA', 'sellerMarket': 'CoinLayer', 'buyPrice': 0.382147, 'buyerMarket': 'Binance', 'sellPrice': 0.3802}, {'coin': 'USDT', 'sellerMarket': 'CoinLayer', 'buyPrice': 1.007573, 'buyerMarket': 'CoinGecko', 'sellPrice': 1.0}, {'coin': 'USDT', 'sellerMarket': 'Binance', 'buyPrice': 1.0003, 'buyerMarket': 'CoinGecko', 'sellPrice': 1.0}, {'coin': 'USDT', 'sellerMarket': 'CoinLayer', 'buyPrice': 1.007573, 'buyerMarket': 'Binance', 'sellPrice': 1.0003}]\n"
     ]
    }
   ],
   "source": [
    "models = retrieveModels()   \n",
    "coins = [\"BTC\",\"LTC\",\"ETH\",\"ADA\",\"USDT\"]\n",
    "markets = {\n",
    "        \"CoinGecko\" : get_coingecko_prices,\n",
    "        \"CoinLayer\" : get_coinlayer_prices,\n",
    "        \"Binance\" : get_binance_prices\n",
    "    }\n",
    "coin_data = get_coin_prices(True,coins,markets)\n",
    "\n",
    "data2 = {\"data\":gao2(),\"pred_data\":format_yesterdays_data(True)}\n",
    "print(gao2())\n"
   ]
  },
  {
   "cell_type": "code",
   "execution_count": 9,
   "metadata": {},
   "outputs": [
    {
     "name": "stdout",
     "output_type": "stream",
     "text": [
      " * Serving Flask app '__main__'\n",
      " * Debug mode: off\n"
     ]
    },
    {
     "name": "stderr",
     "output_type": "stream",
     "text": [
      "WARNING: This is a development server. Do not use it in a production deployment. Use a production WSGI server instead.\n",
      " * Running on http://127.0.0.1:5000\n",
      "Press CTRL+C to quit\n",
      "127.0.0.1 - - [04/Jun/2023 08:22:22] \"GET / HTTP/1.1\" 200 -\n",
      "127.0.0.1 - - [04/Jun/2023 08:22:22] \"GET /favicon.ico HTTP/1.1\" 404 -\n"
     ]
    }
   ],
   "source": [
    "app = Flask(__name__)\n",
    "\n",
    "CORS(app,resources={r\"/*\": {\"origins\": [\"https://turkishfilms.github.io\"]}})\n",
    "\n",
    "def get_data_on_delay():\n",
    "    while True:\n",
    "        data2[\"data\"] = generate_arbitrage_opportunities(False)\n",
    "        data2[\"ops\"] = gao2(True)\n",
    "        data2[\"yester\"] = get_yesterdays_data(False)\n",
    "        data2[\"pred_data\"] = model_preds()\n",
    "        time.sleep(14400) \n",
    "\n",
    "@app.route('/')\n",
    "def home():\n",
    "   return render_template('index.html',data=data2[\"ops\"])\n",
    "\n",
    "@app.route('/learn')\n",
    "def a():\n",
    "    return render_template('learn.html')\n",
    "\n",
    "@app.route('/predictions')\n",
    "def b():\n",
    "    return render_template('predictions.html',data=json.dumps(data2[\"pred_data\"]))\n",
    "\n",
    "if(__name__ == \"__main__\"):\n",
    "    t = threading.Thread(target=get_data_on_delay)\n",
    "    t.start()\n",
    "    app.run()"
   ]
  }
 ],
 "metadata": {
  "kernelspec": {
   "display_name": "Python 3",
   "language": "python",
   "name": "python3"
  },
  "language_info": {
   "codemirror_mode": {
    "name": "ipython",
    "version": 3
   },
   "file_extension": ".py",
   "mimetype": "text/x-python",
   "name": "python",
   "nbconvert_exporter": "python",
   "pygments_lexer": "ipython3",
   "version": "3.11.3"
  },
  "orig_nbformat": 4
 },
 "nbformat": 4,
 "nbformat_minor": 2
}
