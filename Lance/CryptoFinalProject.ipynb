{
 "cells": [
  {
   "cell_type": "code",
   "execution_count": 1,
   "id": "8445f8ff",
   "metadata": {
    "scrolled": false
   },
   "outputs": [],
   "source": [
    "# Dependencies\n",
    "import requests\n",
    "import json\n",
    "from config import api_key\n",
    "from pprint import pprint"
   ]
  },
  {
   "cell_type": "code",
   "execution_count": 9,
   "id": "2213a4cb",
   "metadata": {},
   "outputs": [
    {
     "name": "stdout",
     "output_type": "stream",
     "text": [
      "  Cryptocurrency Abbreviation Value (USD)\n",
      "0        Bitcoin          BTC   $26551.96\n",
      "1       Ethereum          ETH    $1817.11\n",
      "2       Litecoin          LTC      $87.14\n",
      "3         Tether         USDT       $1.01\n",
      "4        Cardano          ADA       $0.36\n"
     ]
    }
   ],
   "source": [
    "import pandas as pd\n",
    "\n",
    "api_key = \"9d86b497a3fa7cade4d489127a4c9d3b\"\n",
    "symbols = \"BTC,ETH,LTC,USDT,ADA\"\n",
    "url = \"http://api.coinlayer.com/live?access_key=\" + api_key + \"&symbols=\" + symbols\n",
    "\n",
    "response = requests.get(url)\n",
    "data = response.json()\n",
    "\n",
    "# Access the cryptocurrency values\n",
    "btc_value = data['rates']['BTC']\n",
    "eth_value = data['rates']['ETH']\n",
    "ltc_value = data['rates']['LTC']\n",
    "usdt_value = data['rates']['USDT']\n",
    "ada_value = data['rates']['ADA']\n",
    "\n",
    "# Format the values with a dollar sign and rounding\n",
    "btc_value_formatted = \"${:.2f}\".format(btc_value)\n",
    "eth_value_formatted = \"${:.2f}\".format(eth_value)\n",
    "ltc_value_formatted = \"${:.2f}\".format(ltc_value)\n",
    "usdt_value_formatted = \"${:.2f}\".format(usdt_value)\n",
    "ada_value_formatted = \"${:.2f}\".format(ada_value)\n",
    "\n",
    "# Define the cryptocurrency names\n",
    "cryptocurrency_names = {\n",
    "    'BTC': 'Bitcoin',\n",
    "    'ETH': 'Ethereum',\n",
    "    'LTC': 'Litecoin',\n",
    "    'USDT': 'Tether',\n",
    "    'ADA': 'Cardano'\n",
    "}\n",
    "\n",
    "# Create a DataFrame\n",
    "data = {\n",
    "    'Cryptocurrency': [cryptocurrency_names['BTC'], cryptocurrency_names['ETH'], cryptocurrency_names['LTC'],\n",
    "                       cryptocurrency_names['USDT'], cryptocurrency_names['ADA']],\n",
    "    'Abbreviation': ['BTC', 'ETH', 'LTC', 'USDT', 'ADA'],\n",
    "    'Value (USD)': [btc_value_formatted, eth_value_formatted, ltc_value_formatted, usdt_value_formatted, ada_value_formatted]\n",
    "}\n",
    "df = pd.DataFrame(data)\n",
    "\n",
    "# Display the DataFrame\n",
    "print(df)\n"
   ]
  }
 ],
 "metadata": {
  "kernelspec": {
   "display_name": "PythonData",
   "language": "python",
   "name": "pythondata"
  },
  "language_info": {
   "codemirror_mode": {
    "name": "ipython",
    "version": 3
   },
   "file_extension": ".py",
   "mimetype": "text/x-python",
   "name": "python",
   "nbconvert_exporter": "python",
   "pygments_lexer": "ipython3",
   "version": "3.9.13"
  }
 },
 "nbformat": 4,
 "nbformat_minor": 5
}
