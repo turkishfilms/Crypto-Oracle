{
 "cells": [
  {
   "cell_type": "code",
   "execution_count": 1,
   "id": "f66ec9a8",
   "metadata": {},
   "outputs": [],
   "source": [
    "import requests\n",
    "import pandas as pd"
   ]
  },
  {
   "cell_type": "code",
   "execution_count": 5,
   "id": "b0a4c8c9",
   "metadata": {},
   "outputs": [],
   "source": [
    "def get_coin_data():\n",
    "    \"\"\"\n",
    "    Retrieve coin data from the CoinGecko API and return a DataFrame.\n",
    "    \"\"\"\n",
    "    # Set up the API endpoint\n",
    "    url = 'https://api.coingecko.com/api/v3/'\n",
    "\n",
    "    # Make a GET request to retrieve the data\n",
    "    response = requests.get(url + 'coins/markets', params={\n",
    "        'vs_currency': 'usd',\n",
    "        'ids': 'bitcoin,ethereum,tether,dogecoin,litecoin,cardano',\n",
    "        'order': 'market_cap_desc',\n",
    "        'per_page': 10,\n",
    "        'page': 1,\n",
    "        'sparkline': False\n",
    "    })\n",
    "    # Check if the request was successful (status code 200)\n",
    "    if response.status_code == 200:\n",
    "        # Retrieve the response data\n",
    "        data = response.json()\n",
    "        #create a lists to hold\n",
    "        coin_data = []\n",
    "        for coin in data:\n",
    "            coin_name = coin['symbol']\n",
    "            coin_price = coin['current_price']\n",
    "            coin_data.append({\"Symbol\": coin_name, \"Price\": coin_price})\n",
    "            \n",
    "        todays_price = pd.DataFrame(coin_data)\n",
    "        todays_price[\"Price\"] = pd.to_numeric(todays_price[\"Price\"])\n",
    "        todays_price = todays_price.sort_values(by='Price', ascending=False)\n",
    "        todays_price[\"Price\"] = todays_price[\"Price\"].map('${:,.2f}'.format)\n",
    "        \n",
    "        rename_symbols = {'btc': 'BTCUSD',\n",
    "                          'eth' : 'ETHUSD',\n",
    "                          'ltc' : 'LTCUSD',\n",
    "                          'usdt': 'USDTUSD',\n",
    "                          'ada' : 'ADAUSD',\n",
    "                          'doge' : 'DOGEUSD'}\n",
    "        todays_price['Symbol'] = todays_price['Symbol'].replace(rename_symbols)\n",
    "            \n",
    "        return todays_price\n",
    "            \n",
    "            "
   ]
  },
  {
   "cell_type": "code",
   "execution_count": 6,
   "id": "399dbee5",
   "metadata": {},
   "outputs": [
    {
     "data": {
      "text/html": [
       "<div>\n",
       "<style scoped>\n",
       "    .dataframe tbody tr th:only-of-type {\n",
       "        vertical-align: middle;\n",
       "    }\n",
       "\n",
       "    .dataframe tbody tr th {\n",
       "        vertical-align: top;\n",
       "    }\n",
       "\n",
       "    .dataframe thead th {\n",
       "        text-align: right;\n",
       "    }\n",
       "</style>\n",
       "<table border=\"1\" class=\"dataframe\">\n",
       "  <thead>\n",
       "    <tr style=\"text-align: right;\">\n",
       "      <th></th>\n",
       "      <th>Symbol</th>\n",
       "      <th>Price</th>\n",
       "    </tr>\n",
       "  </thead>\n",
       "  <tbody>\n",
       "    <tr>\n",
       "      <th>0</th>\n",
       "      <td>BTCUSD</td>\n",
       "      <td>$26,423.00</td>\n",
       "    </tr>\n",
       "    <tr>\n",
       "      <th>1</th>\n",
       "      <td>ETHUSD</td>\n",
       "      <td>$1,805.23</td>\n",
       "    </tr>\n",
       "    <tr>\n",
       "      <th>5</th>\n",
       "      <td>LTCUSD</td>\n",
       "      <td>$86.70</td>\n",
       "    </tr>\n",
       "    <tr>\n",
       "      <th>2</th>\n",
       "      <td>USDTUSD</td>\n",
       "      <td>$1.00</td>\n",
       "    </tr>\n",
       "    <tr>\n",
       "      <th>3</th>\n",
       "      <td>ADAUSD</td>\n",
       "      <td>$0.36</td>\n",
       "    </tr>\n",
       "    <tr>\n",
       "      <th>4</th>\n",
       "      <td>DOGEUSD</td>\n",
       "      <td>$0.07</td>\n",
       "    </tr>\n",
       "  </tbody>\n",
       "</table>\n",
       "</div>"
      ],
      "text/plain": [
       "    Symbol       Price\n",
       "0   BTCUSD  $26,423.00\n",
       "1   ETHUSD   $1,805.23\n",
       "5   LTCUSD      $86.70\n",
       "2  USDTUSD       $1.00\n",
       "3   ADAUSD       $0.36\n",
       "4  DOGEUSD       $0.07"
      ]
     },
     "execution_count": 6,
     "metadata": {},
     "output_type": "execute_result"
    }
   ],
   "source": [
    "coin_data = get_coin_data()\n",
    "coin_data"
   ]
  }
 ],
 "metadata": {
  "kernelspec": {
   "display_name": "Python 3 (ipykernel)",
   "language": "python",
   "name": "python3"
  },
  "language_info": {
   "codemirror_mode": {
    "name": "ipython",
    "version": 3
   },
   "file_extension": ".py",
   "mimetype": "text/x-python",
   "name": "python",
   "nbconvert_exporter": "python",
   "pygments_lexer": "ipython3",
   "version": "3.10.9"
  }
 },
 "nbformat": 4,
 "nbformat_minor": 5
}
