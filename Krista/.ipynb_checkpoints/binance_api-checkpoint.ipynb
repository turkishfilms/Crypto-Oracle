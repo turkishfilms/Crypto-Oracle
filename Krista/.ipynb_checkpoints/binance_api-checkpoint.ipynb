{
 "cells": [
  {
   "cell_type": "code",
   "execution_count": 6,
   "id": "917b02de",
   "metadata": {},
   "outputs": [],
   "source": [
    "import requests\n",
    "import pandas as pd\n",
    "import json"
   ]
  },
  {
   "cell_type": "code",
   "execution_count": 7,
   "id": "5ec9e68c",
   "metadata": {},
   "outputs": [
    {
     "name": "stdout",
     "output_type": "stream",
     "text": [
      "[{'symbol': 'BTCUSD4', 'price': '22882.5400'}, {'symbol': 'ETHUSD4', 'price': '1626.0300'}, {'symbol': 'XRPUSD', 'price': '0.2970'}, {'symbol': 'BCHUSD4', 'price': '134.2000'}, {'symbol': 'LTCUSD4', 'price': '96.2100'}, {'symbol': 'USDTUSD4', 'price': '1.0003'}, {'symbol': 'BTCUSDT', 'price': '26448.25000000'}, {'symbol': 'ETHUSDT', 'price': '1803.58000000'}, {'symbol': 'XRPUSDT', 'price': '0.29691000'}, {'symbol': 'BCHUSDT', 'price': '111.80000000'}, {'symbol': 'LTCUSDT', 'price': '87.29000000'}, {'symbol': 'BNBUSD4', 'price': '325.6257'}, {'symbol': 'BNBUSDT', 'price': '302.80000000'}, {'symbol': 'ETHBTC', 'price': '0.06824200'}, {'symbol': 'XRPBTC', 'price': '0.00000864'}, {'symbol': 'BNBBTC', 'price': '0.01146600'}, {'symbol': 'LTCBTC', 'price': '0.00329800'}, {'symbol': 'BCHBTC', 'price': '0.00425000'}, {'symbol': 'ADAUSD4', 'price': '0.3920'}, {'symbol': 'BATUSD4', 'price': '0.2843'}, {'symbol': 'ETCUSD4', 'price': '22.7276'}, {'symbol': 'XLMUSD4', 'price': '0.0910'}, {'symbol': 'ZRXUSD4', 'price': '0.2525'}, {'symbol': 'ADAUSDT', 'price': '0.35440000'}, {'symbol': 'BATUSDT', 'price': '0.21460000'}, {'symbol': 'ETCUSDT', 'price': '17.71000000'}, {'symbol': 'XLMUSDT', 'price': '0.08740000'}, {'symbol': 'ZRXUSDT', 'price': '0.21690000'}, {'symbol': 'LINKUSD4', 'price': '6.9647'}, {'symbol': 'RVNUSD4', 'price': '0.0295'}, {'symbol': 'DASHUSD4', 'price': '60.2100'}, {'symbol': 'ZECUSD4', 'price': '43.9600'}, {'symbol': 'ALGOUSD4', 'price': '0.2580'}, {'symbol': 'IOTAUSD4', 'price': '0.2500'}, {'symbol': 'BUSDUSD4', 'price': '1.0005'}, {'symbol': 'BTCBUSD', 'price': '26430.00000000'}, {'symbol': 'DOGEUSDT', 'price': '0.07052000'}, {'symbol': 'WAVESUSD4', 'price': '2.6353'}, {'symbol': 'ATOMUSDT', 'price': '10.47500000'}, {'symbol': 'ATOMUSD4', 'price': '14.4280'}, {'symbol': 'NEOUSDT', 'price': '9.65000000'}, {'symbol': 'NEOUSD4', 'price': '8.7720'}, {'symbol': 'VETUSDT', 'price': '0.01910000'}, {'symbol': 'QTUMUSDT', 'price': '2.56100000'}, {'symbol': 'QTUMUSD4', 'price': '2.8040'}, {'symbol': 'NANOUSD', 'price': '2.1240'}, {'symbol': 'ICXUSD4', 'price': '0.2397'}, {'symbol': 'ENJUSD4', 'price': '0.4568'}, {'symbol': 'ONTUSD4', 'price': '0.2301'}, {'symbol': 'ONTUSDT', 'price': '0.21730000'}, {'symbol': 'ZILUSD4', 'price': '0.0287'}, {'symbol': 'ZILBUSD', 'price': '0.02805000'}, {'symbol': 'VETUSD4', 'price': '0.0241'}, {'symbol': 'BNBBUSD', 'price': '302.80000000'}, {'symbol': 'XRPBUSD', 'price': '0.30138000'}, {'symbol': 'ETHBUSD', 'price': '1803.83000000'}, {'symbol': 'ALGOBUSD', 'price': '0.23440000'}, {'symbol': 'XTZUSD4', 'price': '1.1814'}, {'symbol': 'XTZBUSD', 'price': '1.15000000'}, {'symbol': 'HBARUSD4', 'price': '0.0699'}, {'symbol': 'HBARBUSD', 'price': '0.05040000'}, {'symbol': 'OMGUSD4', 'price': '1.6934'}, {'symbol': 'OMGBUSD', 'price': '1.66880000'}, {'symbol': 'MATICUSD4', 'price': '1.1954'}, {'symbol': 'MATICBUSD', 'price': '1.13300000'}, {'symbol': 'XTZBTC', 'price': '0.00003300'}, {'symbol': 'ADABTC', 'price': '0.00001343'}, {'symbol': 'REPBUSD', 'price': '5.20000000'}, {'symbol': 'REPUSD', 'price': '5.3400'}, {'symbol': 'EOSBUSD', 'price': '1.17380000'}, {'symbol': 'EOSUSD4', 'price': '1.0900'}, {'symbol': 'DOGEUSD4', 'price': '0.0918'}, {'symbol': 'KNCUSD4', 'price': '0.8910'}, {'symbol': 'KNCUSDT', 'price': '0.59600000'}, {'symbol': 'VTHOUSDT', 'price': '0.00120500'}, {'symbol': 'VTHOUSD4', 'price': '0.0012'}, {'symbol': 'USDCUSD4', 'price': '1.0018'}, {'symbol': 'COMPUSDT', 'price': '33.51000000'}, {'symbol': 'COMPUSD4', 'price': '52.0700'}, {'symbol': 'MANAUSD4', 'price': '0.7261'}, {'symbol': 'HNTUSD4', 'price': '2.9002'}, {'symbol': 'HNTUSDT', 'price': '1.27000000'}, {'symbol': 'MKRUSD4', 'price': '697.5119'}, {'symbol': 'MKRUSDT', 'price': '626.00000000'}, {'symbol': 'DAIUSD4', 'price': '1.0005'}, {'symbol': 'ONEUSDT', 'price': '0.01520000'}, {'symbol': 'ONEUSD4', 'price': '0.0264'}, {'symbol': 'BANDUSDT', 'price': '1.40500000'}, {'symbol': 'BANDUSD4', 'price': '2.0780'}, {'symbol': 'STORJUSDT', 'price': '0.29290000'}, {'symbol': 'STORJUSD4', 'price': '0.4241'}, {'symbol': 'BUSDUSDT', 'price': '0.99930000'}, {'symbol': 'UNIUSD4', 'price': '6.8095'}, {'symbol': 'UNIUSDT', 'price': '4.94600000'}, {'symbol': 'SOLUSD4', 'price': '23.2867'}, {'symbol': 'SOLUSDT', 'price': '19.24000000'}, {'symbol': 'LINKBTC', 'price': '0.00023630'}, {'symbol': 'VETBTC', 'price': '0.00000072'}, {'symbol': 'UNIBTC', 'price': '0.00018630'}, {'symbol': 'EGLDUSDT', 'price': '35.67000000'}, {'symbol': 'EGLDUSD4', 'price': '44.9190'}, {'symbol': 'PAXGUSDT', 'price': '1967.00000000'}, {'symbol': 'PAXGUSD4', 'price': '1860.1300'}, {'symbol': 'OXTUSDT', 'price': '0.06720000'}, {'symbol': 'OXTUSD4', 'price': '0.0967'}, {'symbol': 'ZENUSDT', 'price': '8.19000000'}, {'symbol': 'ZENUSD4', 'price': '10.3240'}, {'symbol': 'BTCUSDC', 'price': '26410.14000000'}, {'symbol': 'ONEBUSD', 'price': '0.01514000'}, {'symbol': 'FILUSDT', 'price': '4.41100000'}, {'symbol': 'FILUSD4', 'price': '5.2700'}, {'symbol': 'AAVEUSDT', 'price': '63.40000000'}, {'symbol': 'AAVEUSD4', 'price': '85.6100'}, {'symbol': 'GRTUSDT', 'price': '0.11520000'}, {'symbol': 'GRTUSD4', 'price': '0.1292'}, {'symbol': 'SUSHIUSD4', 'price': '1.4250'}, {'symbol': 'ANKRUSD4', 'price': '0.0285'}, {'symbol': 'AMPUSD', 'price': '0.0081'}, {'symbol': 'SHIBUSDT', 'price': '0.00000845'}, {'symbol': 'SHIBBUSD', 'price': '0.00001078'}, {'symbol': 'CRVUSDT', 'price': '0.82300000'}, {'symbol': 'CRVUSD4', 'price': '1.0470'}, {'symbol': 'AXSUSDT', 'price': '6.79000000'}, {'symbol': 'AXSUSD4', 'price': '10.9900'}, {'symbol': 'SOLBTC', 'price': '0.00072870'}, {'symbol': 'AVAXUSDT', 'price': '14.01000000'}, {'symbol': 'AVAXUSD4', 'price': '19.9500'}, {'symbol': 'CTSIUSDT', 'price': '0.16850000'}, {'symbol': 'CTSIUSD4', 'price': '0.1616'}, {'symbol': 'DOTUSDT', 'price': '5.20900000'}, {'symbol': 'DOTUSD4', 'price': '6.6600'}, {'symbol': 'YFIUSDT', 'price': '6286.00000000'}, {'symbol': 'YFIUSD4', 'price': '7598.8400'}, {'symbol': '1INCHUSDT', 'price': '0.38500000'}, {'symbol': '1INCHUSD4', 'price': '0.5740'}, {'symbol': 'FTMUSDT', 'price': '0.32700000'}, {'symbol': 'FTMUSD4', 'price': '0.5577'}, {'symbol': 'USDCUSDT', 'price': '0.99980000'}, {'symbol': 'ETHUSDC', 'price': '1803.76000000'}, {'symbol': 'USDCBUSD', 'price': '1.00030000'}, {'symbol': 'MATICUSDT', 'price': '0.89550000'}, {'symbol': 'MANAUSDT', 'price': '0.46230000'}, {'symbol': 'MANABUSD', 'price': '0.58950000'}, {'symbol': 'ALGOUSDT', 'price': '0.14840000'}, {'symbol': 'ADABUSD', 'price': '0.38510000'}, {'symbol': 'SOLBUSD', 'price': '21.61000000'}, {'symbol': 'LINKUSDT', 'price': '6.24400000'}, {'symbol': 'EOSUSDT', 'price': '0.84100000'}, {'symbol': 'ZECUSDT', 'price': '30.90000000'}, {'symbol': 'ENJUSDT', 'price': '0.33320000'}, {'symbol': 'NEARUSDT', 'price': '1.56600000'}, {'symbol': 'NEARBUSD', 'price': '1.97100000'}, {'symbol': 'NEARUSD4', 'price': '2.3770'}, {'symbol': 'OMGUSDT', 'price': '0.74700000'}, {'symbol': 'SUSHIUSDT', 'price': '0.85500000'}, {'symbol': 'LRCUSDT', 'price': '0.28360000'}, {'symbol': 'LRCUSD4', 'price': '0.3718'}, {'symbol': 'LRCBTC', 'price': '0.00001073'}, {'symbol': 'KSHIBUSD4', 'price': '0.0144'}, {'symbol': 'LPTUSDT', 'price': '5.05000000'}, {'symbol': 'LPTBUSD', 'price': '6.96000000'}, {'symbol': 'LPTUSD4', 'price': '8.7800'}, {'symbol': 'POLYUSDT', 'price': '0.26240000'}, {'symbol': 'POLYBUSD', 'price': '0.26400000'}, {'symbol': 'POLYUSD', 'price': '0.2628'}, {'symbol': 'POLYBTC', 'price': '0.00001360'}, {'symbol': 'MATICBTC', 'price': '0.00003379'}, {'symbol': 'DOTBTC', 'price': '0.00019730'}, {'symbol': 'NMRUSDT', 'price': '16.20000000'}, {'symbol': 'NMRUSD4', 'price': '21.3500'}, {'symbol': 'SLPUSDT', 'price': '0.00214800'}, {'symbol': 'SLPUSD4', 'price': '0.0032'}, {'symbol': 'ANTUSDT', 'price': '3.50300000'}, {'symbol': 'ANTUSD4', 'price': '2.8640'}, {'symbol': 'XNOUSD4', 'price': '0.8450'}, {'symbol': 'CHZUSDT', 'price': '0.09890000'}, {'symbol': 'CHZUSD4', 'price': '0.1396'}, {'symbol': 'OGNUSDT', 'price': '0.08780000'}, {'symbol': 'OGNUSD4', 'price': '0.1298'}, {'symbol': 'GALAUSDT', 'price': '0.02969000'}, {'symbol': 'GALAUSD4', 'price': '0.0528'}, {'symbol': 'TLMUSDT', 'price': '0.01615000'}, {'symbol': 'TLMUSD4', 'price': '0.0235'}, {'symbol': 'SNXUSDT', 'price': '2.30500000'}, {'symbol': 'SNXUSD4', 'price': '2.5310'}, {'symbol': 'AUDIOUSDT', 'price': '0.23620000'}, {'symbol': 'AUDIOUSD4', 'price': '0.2640'}, {'symbol': 'ENSUSDT', 'price': '9.88000000'}, {'symbol': 'MANABTC', 'price': '0.00001747'}, {'symbol': 'ATOMBTC', 'price': '0.00039590'}, {'symbol': 'AVAXBTC', 'price': '0.00053120'}, {'symbol': 'WBTCBTC', 'price': '0.99980000'}, {'symbol': 'REQUSDT', 'price': '0.08580000'}, {'symbol': 'REQUSD4', 'price': '0.1085'}, {'symbol': 'APEUSDT', 'price': '3.22200000'}, {'symbol': 'APEUSD4', 'price': '5.6927'}, {'symbol': 'FLUXUSDT', 'price': '0.47500000'}, {'symbol': 'FLUXUSD4', 'price': '0.9050'}, {'symbol': 'TRXBTC', 'price': '0.00000220'}, {'symbol': 'TRXBUSD', 'price': '0.06438000'}, {'symbol': 'TRXUSDT', 'price': '0.06697000'}, {'symbol': 'TRXUSD4', 'price': '0.0637'}, {'symbol': 'COTIUSDT', 'price': '0.06690000'}, {'symbol': 'COTIUSD4', 'price': '0.0985'}, {'symbol': 'VOXELUSDT', 'price': '0.17990000'}, {'symbol': 'VOXELUSD4', 'price': '0.3344'}, {'symbol': 'RLCUSDT', 'price': '1.54800000'}, {'symbol': 'RLCUSD4', 'price': '1.9810'}, {'symbol': 'USTUSDT', 'price': '0.00650000'}, {'symbol': 'USTUSD', 'price': '0.0068'}, {'symbol': 'BICOUSDT', 'price': '0.29200000'}, {'symbol': 'BICOUSD4', 'price': '0.3850'}, {'symbol': 'API3USDT', 'price': '1.19200000'}, {'symbol': 'API3USD4', 'price': '1.7070'}, {'symbol': 'ENSUSD4', 'price': '15.0700'}, {'symbol': 'BTCUST', 'price': '1000000.00000000'}, {'symbol': 'BNTUSDT', 'price': '0.40700000'}, {'symbol': 'BNTUSD4', 'price': '0.4480'}, {'symbol': 'IMXUSDT', 'price': '0.73100000'}, {'symbol': 'IMXUSD4', 'price': '0.8810'}, {'symbol': 'SPELLUSDT', 'price': '0.00077250'}, {'symbol': 'SPELLUSD4', 'price': '0.0009'}, {'symbol': 'JASMYUSDT', 'price': '0.00496200'}, {'symbol': 'JASMYUSD4', 'price': '0.0068'}, {'symbol': 'FLOWUSDT', 'price': '0.73900000'}, {'symbol': 'FLOWUSD4', 'price': '1.1100'}, {'symbol': 'GTCUSDT', 'price': '1.39300000'}, {'symbol': 'GTCUSD4', 'price': '2.0620'}, {'symbol': 'THETAUSDT', 'price': '0.84000000'}, {'symbol': 'THETAUSD4', 'price': '1.0900'}, {'symbol': 'TFUELUSDT', 'price': '0.04090000'}, {'symbol': 'TFUELUSD4', 'price': '0.0567'}, {'symbol': 'OCEANUSDT', 'price': '0.32920000'}, {'symbol': 'OCEANUSD4', 'price': '0.4314'}, {'symbol': 'LAZIOUSDT', 'price': '2.32030000'}, {'symbol': 'LAZIOUSD4', 'price': '3.4410'}, {'symbol': 'SANTOSUSDT', 'price': '3.89900000'}, {'symbol': 'SANTOSUSD4', 'price': '5.6920'}, {'symbol': 'ALPINEUSDT', 'price': '2.35000000'}, {'symbol': 'ALPINEUSD4', 'price': '2.7805'}, {'symbol': 'PORTOUSDT', 'price': '2.26740000'}, {'symbol': 'PORTOUSD4', 'price': '3.0457'}, {'symbol': 'RENUSDT', 'price': '0.07279900'}, {'symbol': 'RENUSD4', 'price': '0.1011'}, {'symbol': 'CELRUSDT', 'price': '0.01975000'}, {'symbol': 'CELRUSD4', 'price': '0.0196'}, {'symbol': 'SKLUSDT', 'price': '0.03193000'}, {'symbol': 'SKLUSD4', 'price': '0.0384'}, {'symbol': 'VITEUSDT', 'price': '0.01840000'}, {'symbol': 'VITEUSD4', 'price': '0.0254'}, {'symbol': 'WAXPUSDT', 'price': '0.05380000'}, {'symbol': 'WAXPUSD4', 'price': '0.0799'}, {'symbol': 'LTOUSDT', 'price': '0.08730000'}, {'symbol': 'LTOUSD4', 'price': '0.1039'}, {'symbol': 'FETUSDT', 'price': '0.23410000'}, {'symbol': 'FETUSD4', 'price': '0.4293'}, {'symbol': 'BONDUSDT', 'price': '3.63800000'}, {'symbol': 'BONDUSD4', 'price': '4.5100'}, {'symbol': 'LOKAUSDT', 'price': '0.35410000'}, {'symbol': 'LOKAUSD4', 'price': '0.7049'}, {'symbol': 'ICPUSDT', 'price': '4.77300000'}, {'symbol': 'ICPUSD4', 'price': '5.7000'}, {'symbol': 'TUSDT', 'price': '0.02524000'}, {'symbol': 'TUSD4', 'price': '0.0437'}, {'symbol': 'OPUSDT', 'price': '1.61600000'}, {'symbol': 'OPUSD4', 'price': '2.8290'}, {'symbol': 'ROSEUSDT', 'price': '0.05058000'}, {'symbol': 'ROSEUSD4', 'price': '0.0546'}, {'symbol': 'CELOUSDT', 'price': '0.49800000'}, {'symbol': 'CELOUSD4', 'price': '0.7990'}, {'symbol': 'KDAUSDT', 'price': '0.73200000'}, {'symbol': 'KDAUSD4', 'price': '1.1670'}, {'symbol': 'KSMUSDT', 'price': '25.38000000'}, {'symbol': 'KSMUSD4', 'price': '35.8000'}, {'symbol': 'ACHUSDT', 'price': '0.02679000'}, {'symbol': 'ACHUSD4', 'price': '0.0190'}, {'symbol': 'DARUSDT', 'price': '0.13730000'}, {'symbol': 'DARUSD4', 'price': '0.2487'}, {'symbol': 'RNDRUSDT', 'price': '2.68700000'}, {'symbol': 'RNDRUSD4', 'price': '1.8850'}, {'symbol': 'SYSUSDT', 'price': '0.12280000'}, {'symbol': 'SYSUSD4', 'price': '0.1694'}, {'symbol': 'RADUSDT', 'price': '1.94600000'}, {'symbol': 'RADUSD4', 'price': '1.9200'}, {'symbol': 'ILVUSDT', 'price': '47.08000000'}, {'symbol': 'ILVUSD4', 'price': '91.6000'}, {'symbol': 'LDOUSDT', 'price': '1.99300000'}, {'symbol': 'LDOUSD4', 'price': '2.0470'}, {'symbol': 'RAREUSDT', 'price': '0.09650000'}, {'symbol': 'RAREUSD4', 'price': '0.1560'}, {'symbol': 'LSKUSDT', 'price': '0.79400000'}, {'symbol': 'LSKUSD4', 'price': '1.3990'}, {'symbol': 'DGBUSDT', 'price': '0.00780000'}, {'symbol': 'DGBUSD4', 'price': '0.0107'}, {'symbol': 'REEFUSDT', 'price': '0.00216700'}, {'symbol': 'REEFUSD4', 'price': '0.0034'}, {'symbol': 'SRMUSDT', 'price': '0.16201000'}, {'symbol': 'SRMUSD', 'price': '0.1772'}, {'symbol': 'ALICEUSDT', 'price': '1.31100000'}, {'symbol': 'ALICEUSD4', 'price': '1.8010'}, {'symbol': 'FORTHUSDT', 'price': '2.84900000'}, {'symbol': 'FORTHUSD4', 'price': '3.6600'}, {'symbol': 'ASTRUSDT', 'price': '0.05020000'}, {'symbol': 'ASTRUSD4', 'price': '0.0541'}, {'symbol': 'BTRSTUSDT', 'price': '0.76700000'}, {'symbol': 'BTRSTUSD4', 'price': '1.0830'}, {'symbol': 'GALUSDT', 'price': '1.37600000'}, {'symbol': 'GALUSD4', 'price': '2.3040'}, {'symbol': 'SANDUSDT', 'price': '0.49990000'}, {'symbol': 'SANDUSD4', 'price': '0.7269'}, {'symbol': 'BALUSDT', 'price': '5.14700000'}, {'symbol': 'BALUSD4', 'price': '6.8690'}, {'symbol': 'POLYXUSD4', 'price': '0.2063'}, {'symbol': 'GLMUSDT', 'price': '0.20480000'}, {'symbol': 'GLMUSD4', 'price': '0.2611'}, {'symbol': 'CLVUSDT', 'price': '0.04645000'}, {'symbol': 'CLVUSD4', 'price': '0.0759'}, {'symbol': 'TUSDUSDT', 'price': '0.99910000'}, {'symbol': 'TUSDUSD4', 'price': '1.0004'}, {'symbol': 'QNTUSDT', 'price': '98.40000000'}, {'symbol': 'QNTUSD4', 'price': '138.0000'}, {'symbol': 'STGUSDT', 'price': '0.61910000'}, {'symbol': 'STGUSD4', 'price': '0.7365'}, {'symbol': 'AXLUSDT', 'price': '0.45900000'}, {'symbol': 'AXLUSD4', 'price': '0.6030'}, {'symbol': 'KAVAUSDT', 'price': '1.07100000'}, {'symbol': 'KAVAUSD4', 'price': '0.9670'}, {'symbol': 'APTUSDT', 'price': '7.90430000'}, {'symbol': 'APTUSD4', 'price': '14.7068'}, {'symbol': 'MASKUSDT', 'price': '3.86700000'}, {'symbol': 'MASKUSD4', 'price': '4.4650'}, {'symbol': 'BOSONUSDT', 'price': '0.24100000'}, {'symbol': 'BOSONUSD4', 'price': '0.2539'}, {'symbol': 'PONDUSDT', 'price': '0.00831000'}, {'symbol': 'PONDUSD4', 'price': '0.0110'}, {'symbol': 'SOLUSDC', 'price': '19.19000000'}, {'symbol': 'ADAUSDC', 'price': '0.35460000'}, {'symbol': 'MXCUSDT', 'price': '0.01502000'}, {'symbol': 'MXCUSD4', 'price': '0.0310'}, {'symbol': 'JAMUSDT', 'price': '0.00117100'}, {'symbol': 'JAMUSD4', 'price': '0.0030'}, {'symbol': 'TRACUSDT', 'price': '0.25790000'}, {'symbol': 'PROMUSDT', 'price': '4.19000000'}, {'symbol': 'PROMUSD4', 'price': '4.8600'}, {'symbol': 'DIAUSDT', 'price': '0.29800000'}, {'symbol': 'DIAUSD4', 'price': '0.4230'}, {'symbol': 'BTCDAI', 'price': '26466.18000000'}, {'symbol': 'ETHDAI', 'price': '1796.75000000'}, {'symbol': 'ADAETH', 'price': '0.00019700'}, {'symbol': 'DOGEBTC', 'price': '0.00000269'}, {'symbol': 'LOOMUSDT', 'price': '0.04644000'}, {'symbol': 'LOOMUSD4', 'price': '0.0541'}, {'symbol': 'STMXUSDT', 'price': '0.00421700'}, {'symbol': 'BTCUSD', 'price': '26471.60000000'}, {'symbol': 'ETHUSD', 'price': '1805.35000000'}, {'symbol': 'BCHUSD', 'price': '111.60000000'}, {'symbol': 'LTCUSD', 'price': '87.42000000'}, {'symbol': 'USDTUSD', 'price': '1.00100000'}, {'symbol': 'BNBUSD', 'price': '303.00000000'}, {'symbol': 'ADAUSD', 'price': '0.35480000'}, {'symbol': 'BATUSD', 'price': '0.21490000'}, {'symbol': 'ETCUSD', 'price': '17.70000000'}, {'symbol': 'XLMUSD', 'price': '0.08720000'}, {'symbol': 'ZRXUSD', 'price': '0.21610000'}, {'symbol': 'LINKUSD', 'price': '6.25800000'}, {'symbol': 'RVNUSD', 'price': '0.02060000'}, {'symbol': 'DASHUSD', 'price': '41.05000000'}, {'symbol': 'ZECUSD', 'price': '31.10000000'}, {'symbol': 'ALGOUSD', 'price': '0.14850000'}, {'symbol': 'IOTAUSD', 'price': '0.19300000'}, {'symbol': 'BUSDUSD', 'price': '0.99970000'}, {'symbol': 'WAVESUSD', 'price': '1.74300000'}, {'symbol': 'ATOMUSD', 'price': '10.50000000'}, {'symbol': 'NEOUSD', 'price': '9.66000000'}, {'symbol': 'QTUMUSD', 'price': '2.59800000'}, {'symbol': 'ICXUSD', 'price': '0.23780000'}, {'symbol': 'ENJUSD', 'price': '0.33110000'}, {'symbol': 'ONTUSD', 'price': '0.21820000'}, {'symbol': 'ZILUSD', 'price': '0.02249000'}, {'symbol': 'VETUSD', 'price': '0.01914000'}, {'symbol': 'XTZUSD', 'price': '0.87420000'}, {'symbol': 'HBARUSD', 'price': '0.05050000'}, {'symbol': 'OMGUSD', 'price': '0.75100000'}, {'symbol': 'MATICUSD', 'price': '0.89650000'}, {'symbol': 'EOSUSD', 'price': '0.84080000'}, {'symbol': 'DOGEUSD', 'price': '0.07072000'}, {'symbol': 'KNCUSD', 'price': '0.59300000'}, {'symbol': 'VTHOUSD', 'price': '0.00120000'}, {'symbol': 'USDCUSD', 'price': '1.00090000'}, {'symbol': 'COMPUSD', 'price': '33.63000000'}, {'symbol': 'MANAUSD', 'price': '0.46330000'}, {'symbol': 'HNTUSD', 'price': '1.28000000'}, {'symbol': 'MKRUSD', 'price': '624.00000000'}, {'symbol': 'DAIUSD', 'price': '1.00120000'}, {'symbol': 'ONEUSD', 'price': '0.01510000'}, {'symbol': 'BANDUSD', 'price': '1.40700000'}, {'symbol': 'STORJUSD', 'price': '0.29410000'}, {'symbol': 'UNIUSD', 'price': '4.94720000'}, {'symbol': 'SOLUSD', 'price': '19.24000000'}, {'symbol': 'EGLDUSD', 'price': '35.56000000'}, {'symbol': 'PAXGUSD', 'price': '1970.00000000'}, {'symbol': 'OXTUSD', 'price': '0.06680000'}, {'symbol': 'ZENUSD', 'price': '8.26000000'}, {'symbol': 'FILUSD', 'price': '4.40500000'}, {'symbol': 'AAVEUSD', 'price': '63.10000000'}, {'symbol': 'GRTUSD', 'price': '0.11500000'}, {'symbol': 'SUSHIUSD', 'price': '0.84500000'}, {'symbol': 'ANKRUSD', 'price': '0.02485000'}, {'symbol': 'CRVUSD', 'price': '0.82300000'}, {'symbol': 'AXSUSD', 'price': '6.82000000'}, {'symbol': 'AVAXUSD', 'price': '14.04000000'}, {'symbol': 'CTSIUSD', 'price': '0.16910000'}, {'symbol': 'DOTUSD', 'price': '5.22000000'}, {'symbol': 'YFIUSD', 'price': '6268.00000000'}, {'symbol': '1INCHUSD', 'price': '0.39000000'}, {'symbol': 'FTMUSD', 'price': '0.32960000'}, {'symbol': 'NEARUSD', 'price': '1.55000000'}, {'symbol': 'LRCUSD', 'price': '0.28340000'}, {'symbol': 'KSHIBUSD', 'price': '0.01350000'}, {'symbol': 'LPTUSD', 'price': '5.03000000'}, {'symbol': 'NMRUSD', 'price': '16.19000000'}, {'symbol': 'SLPUSD', 'price': '0.00215100'}, {'symbol': 'ANTUSD', 'price': '3.50100000'}, {'symbol': 'XNOUSD', 'price': '0.70400000'}, {'symbol': 'CHZUSD', 'price': '0.09850000'}, {'symbol': 'OGNUSD', 'price': '0.09150000'}, {'symbol': 'GALAUSD', 'price': '0.02986000'}, {'symbol': 'TLMUSD', 'price': '0.01610000'}, {'symbol': 'SNXUSD', 'price': '2.31500000'}, {'symbol': 'AUDIOUSD', 'price': '0.23610000'}, {'symbol': 'REQUSD', 'price': '0.08480000'}, {'symbol': 'APEUSD', 'price': '3.23800000'}, {'symbol': 'FLUXUSD', 'price': '0.47700000'}, {'symbol': 'TRXUSD', 'price': '0.06689000'}, {'symbol': 'COTIUSD', 'price': '0.06660000'}, {'symbol': 'VOXELUSD', 'price': '0.17980000'}, {'symbol': 'RLCUSD', 'price': '1.53800000'}, {'symbol': 'BICOUSD', 'price': '0.29100000'}, {'symbol': 'API3USD', 'price': '1.19000000'}, {'symbol': 'ENSUSD', 'price': '9.89000000'}, {'symbol': 'BNTUSD', 'price': '0.40500000'}, {'symbol': 'IMXUSD', 'price': '0.73300000'}, {'symbol': 'SPELLUSD', 'price': '0.00077250'}, {'symbol': 'JASMYUSD', 'price': '0.00497800'}, {'symbol': 'FLOWUSD', 'price': '0.74000000'}, {'symbol': 'GTCUSD', 'price': '1.39400000'}, {'symbol': 'THETAUSD', 'price': '0.83700000'}, {'symbol': 'TFUELUSD', 'price': '0.04010000'}, {'symbol': 'OCEANUSD', 'price': '0.32850000'}, {'symbol': 'LAZIOUSD', 'price': '2.35520000'}, {'symbol': 'SANTOSUSD', 'price': '3.94100000'}, {'symbol': 'ALPINEUSD', 'price': '2.34870000'}, {'symbol': 'PORTOUSD', 'price': '2.25460000'}, {'symbol': 'RENUSD', 'price': '0.07333100'}, {'symbol': 'CELRUSD', 'price': '0.01962000'}, {'symbol': 'SKLUSD', 'price': '0.03165000'}, {'symbol': 'VITEUSD', 'price': '0.01850000'}, {'symbol': 'WAXPUSD', 'price': '0.05400000'}, {'symbol': 'LTOUSD', 'price': '0.08730000'}, {'symbol': 'FETUSD', 'price': '0.23550000'}, {'symbol': 'BONDUSD', 'price': '3.63500000'}, {'symbol': 'LOKAUSD', 'price': '0.35160000'}, {'symbol': 'ICPUSD', 'price': '4.79100000'}, {'symbol': 'TUSD', 'price': '0.02540000'}, {'symbol': 'OPUSD', 'price': '1.62600000'}, {'symbol': 'ROSEUSD', 'price': '0.05072000'}, {'symbol': 'CELOUSD', 'price': '0.50200000'}, {'symbol': 'KDAUSD', 'price': '0.73500000'}, {'symbol': 'KSMUSD', 'price': '25.29000000'}, {'symbol': 'ACHUSD', 'price': '0.02684000'}, {'symbol': 'DARUSD', 'price': '0.13700000'}, {'symbol': 'RNDRUSD', 'price': '2.69000000'}, {'symbol': 'SYSUSD', 'price': '0.12310000'}, {'symbol': 'RADUSD', 'price': '1.97100000'}, {'symbol': 'ILVUSD', 'price': '47.63000000'}, {'symbol': 'LDOUSD', 'price': '1.99800000'}, {'symbol': 'RAREUSD', 'price': '0.09610000'}, {'symbol': 'LSKUSD', 'price': '0.79600000'}, {'symbol': 'DGBUSD', 'price': '0.00780000'}, {'symbol': 'REEFUSD', 'price': '0.00216200'}, {'symbol': 'ALICEUSD', 'price': '1.30900000'}, {'symbol': 'FORTHUSD', 'price': '2.85100000'}, {'symbol': 'ASTRUSD', 'price': '0.05000000'}, {'symbol': 'BTRSTUSD', 'price': '0.81100000'}, {'symbol': 'GALUSD', 'price': '1.37200000'}, {'symbol': 'SANDUSD', 'price': '0.49940000'}, {'symbol': 'BALUSD', 'price': '5.12800000'}, {'symbol': 'POLYXUSD', 'price': '0.14350000'}, {'symbol': 'GLMUSD', 'price': '0.20560000'}, {'symbol': 'CLVUSD', 'price': '0.04660000'}, {'symbol': 'TUSDUSD', 'price': '1.00010000'}, {'symbol': 'QNTUSD', 'price': '98.60000000'}, {'symbol': 'STGUSD', 'price': '0.61500000'}, {'symbol': 'AXLUSD', 'price': '0.45900000'}, {'symbol': 'KAVAUSD', 'price': '1.07000000'}, {'symbol': 'APTUSD', 'price': '7.95750000'}, {'symbol': 'MASKUSD', 'price': '3.87600000'}, {'symbol': 'BOSONUSD', 'price': '0.17850000'}, {'symbol': 'PONDUSD', 'price': '0.00840000'}, {'symbol': 'MXCUSD', 'price': '0.01501000'}, {'symbol': 'JAMUSD', 'price': '0.00120100'}, {'symbol': 'PROMUSD', 'price': '4.21000000'}, {'symbol': 'DIAUSD', 'price': '0.29200000'}, {'symbol': 'LOOMUSD', 'price': '0.04461000'}, {'symbol': 'STMXUSD', 'price': '0.00420900'}, {'symbol': 'SHIBUSD', 'price': '0.00000846'}, {'symbol': 'TRACUSD', 'price': '0.25740000'}, {'symbol': 'POLYXUSDT', 'price': '0.14210000'}, {'symbol': 'IOSTUSDT', 'price': '0.00956000'}, {'symbol': 'IOSTUSD', 'price': '0.00907000'}, {'symbol': 'MATICETH', 'price': '0.00049640'}, {'symbol': 'SOLETH', 'price': '0.01063000'}, {'symbol': 'FLOKI8USDT', 'price': '0.00005000'}, {'symbol': 'FLOKI8USD', 'price': '0.00005131'}, {'symbol': 'ARBUSDT', 'price': '1.11230000'}, {'symbol': 'ARBUSD', 'price': '1.10920000'}, {'symbol': 'FLOKIUSDT', 'price': '0.00003066'}, {'symbol': 'FLOKIUSD', 'price': '0.00003045'}, {'symbol': 'XECUSDT', 'price': '0.00002458'}, {'symbol': 'XECUSD', 'price': '0.00002469'}, {'symbol': 'BLURUSDT', 'price': '0.48700000'}, {'symbol': 'BLURUSD', 'price': '0.48800000'}]\n"
     ]
    }
   ],
   "source": [
    "current_prices = requests.get('https://api.binance.us/api/v3/ticker/price')\n",
    "print(current_prices.json())"
   ]
  },
  {
   "cell_type": "code",
   "execution_count": 8,
   "id": "419e010c",
   "metadata": {},
   "outputs": [
    {
     "name": "stdout",
     "output_type": "stream",
     "text": [
      "{'BTCUSD': '26471.60000000', 'ETHUSD': '1805.35000000', 'LTCUSD': '87.42000000', 'USDTUSD': '1.00100000', 'ADAUSD': '0.35480000', 'DOGEUSD': '0.07072000'}\n"
     ]
    }
   ],
   "source": [
    "data = current_prices.json()\n",
    "symbols = [\"BTCUSD\", \"ETHUSD\", \"DOGEUSD\", \"LTCUSD\", \"ADAUSD\", \"USDTUSD\"]\n",
    "prices = {}\n",
    "for item in data:\n",
    "    symbol = item['symbol']\n",
    "    price = item['price']\n",
    "    if symbol in symbols:\n",
    "        prices[symbol] = price\n",
    "\n",
    "print(prices)"
   ]
  },
  {
   "cell_type": "code",
   "execution_count": 9,
   "id": "9cc0d1f3",
   "metadata": {},
   "outputs": [
    {
     "data": {
      "text/html": [
       "<div>\n",
       "<style scoped>\n",
       "    .dataframe tbody tr th:only-of-type {\n",
       "        vertical-align: middle;\n",
       "    }\n",
       "\n",
       "    .dataframe tbody tr th {\n",
       "        vertical-align: top;\n",
       "    }\n",
       "\n",
       "    .dataframe thead th {\n",
       "        text-align: right;\n",
       "    }\n",
       "</style>\n",
       "<table border=\"1\" class=\"dataframe\">\n",
       "  <thead>\n",
       "    <tr style=\"text-align: right;\">\n",
       "      <th></th>\n",
       "      <th>Symbol</th>\n",
       "      <th>Price</th>\n",
       "    </tr>\n",
       "  </thead>\n",
       "  <tbody>\n",
       "    <tr>\n",
       "      <th>0</th>\n",
       "      <td>BTCUSD</td>\n",
       "      <td>26471.60000000</td>\n",
       "    </tr>\n",
       "    <tr>\n",
       "      <th>1</th>\n",
       "      <td>ETHUSD</td>\n",
       "      <td>1805.35000000</td>\n",
       "    </tr>\n",
       "    <tr>\n",
       "      <th>2</th>\n",
       "      <td>LTCUSD</td>\n",
       "      <td>87.42000000</td>\n",
       "    </tr>\n",
       "    <tr>\n",
       "      <th>3</th>\n",
       "      <td>USDTUSD</td>\n",
       "      <td>1.00100000</td>\n",
       "    </tr>\n",
       "    <tr>\n",
       "      <th>4</th>\n",
       "      <td>ADAUSD</td>\n",
       "      <td>0.35480000</td>\n",
       "    </tr>\n",
       "    <tr>\n",
       "      <th>5</th>\n",
       "      <td>DOGEUSD</td>\n",
       "      <td>0.07072000</td>\n",
       "    </tr>\n",
       "  </tbody>\n",
       "</table>\n",
       "</div>"
      ],
      "text/plain": [
       "    Symbol           Price\n",
       "0   BTCUSD  26471.60000000\n",
       "1   ETHUSD   1805.35000000\n",
       "2   LTCUSD     87.42000000\n",
       "3  USDTUSD      1.00100000\n",
       "4   ADAUSD      0.35480000\n",
       "5  DOGEUSD      0.07072000"
      ]
     },
     "execution_count": 9,
     "metadata": {},
     "output_type": "execute_result"
    }
   ],
   "source": [
    "todays_prices = pd.DataFrame(prices.items(), columns=[\"Symbol\", \"Price\"])\n",
    "todays_prices"
   ]
  }
 ],
 "metadata": {
  "kernelspec": {
   "display_name": "Python 3 (ipykernel)",
   "language": "python",
   "name": "python3"
  },
  "language_info": {
   "codemirror_mode": {
    "name": "ipython",
    "version": 3
   },
   "file_extension": ".py",
   "mimetype": "text/x-python",
   "name": "python",
   "nbconvert_exporter": "python",
   "pygments_lexer": "ipython3",
   "version": "3.10.9"
  }
 },
 "nbformat": 4,
 "nbformat_minor": 5
}
