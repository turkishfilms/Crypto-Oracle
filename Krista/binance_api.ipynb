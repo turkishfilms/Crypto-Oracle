{
 "cells": [
  {
   "cell_type": "code",
   "execution_count": 8,
   "id": "917b02de",
   "metadata": {},
   "outputs": [],
   "source": [
    "import config\n",
    "import requests\n",
    "import pandas as pd\n",
    "import json"
   ]
  },
  {
   "cell_type": "code",
   "execution_count": 9,
   "id": "036e7acf",
   "metadata": {},
   "outputs": [
    {
     "data": {
      "text/html": [
       "<div>\n",
       "<style scoped>\n",
       "    .dataframe tbody tr th:only-of-type {\n",
       "        vertical-align: middle;\n",
       "    }\n",
       "\n",
       "    .dataframe tbody tr th {\n",
       "        vertical-align: top;\n",
       "    }\n",
       "\n",
       "    .dataframe thead th {\n",
       "        text-align: right;\n",
       "    }\n",
       "</style>\n",
       "<table border=\"1\" class=\"dataframe\">\n",
       "  <thead>\n",
       "    <tr style=\"text-align: right;\">\n",
       "      <th></th>\n",
       "      <th>Symbol</th>\n",
       "      <th>Price</th>\n",
       "    </tr>\n",
       "  </thead>\n",
       "  <tbody>\n",
       "    <tr>\n",
       "      <th>0</th>\n",
       "      <td>BTCUSD</td>\n",
       "      <td>$26,465.41</td>\n",
       "    </tr>\n",
       "    <tr>\n",
       "      <th>1</th>\n",
       "      <td>ETHUSD</td>\n",
       "      <td>$1,808.54</td>\n",
       "    </tr>\n",
       "    <tr>\n",
       "      <th>2</th>\n",
       "      <td>LTCUSD</td>\n",
       "      <td>$86.87</td>\n",
       "    </tr>\n",
       "    <tr>\n",
       "      <th>3</th>\n",
       "      <td>USDTUSD</td>\n",
       "      <td>$1.00</td>\n",
       "    </tr>\n",
       "    <tr>\n",
       "      <th>4</th>\n",
       "      <td>ADAUSD</td>\n",
       "      <td>$0.36</td>\n",
       "    </tr>\n",
       "    <tr>\n",
       "      <th>5</th>\n",
       "      <td>DOGEUSD</td>\n",
       "      <td>$0.07</td>\n",
       "    </tr>\n",
       "  </tbody>\n",
       "</table>\n",
       "</div>"
      ],
      "text/plain": [
       "    Symbol       Price\n",
       "0   BTCUSD  $26,465.41\n",
       "1   ETHUSD   $1,808.54\n",
       "2   LTCUSD      $86.87\n",
       "3  USDTUSD       $1.00\n",
       "4   ADAUSD       $0.36\n",
       "5  DOGEUSD       $0.07"
      ]
     },
     "execution_count": 9,
     "metadata": {},
     "output_type": "execute_result"
    }
   ],
   "source": [
    "def get_binance_prices(symbols):\n",
    "    \"\"\"\n",
    "    Retrieve current prices for specified symbols from Binance API and return a DataFrame.\n",
    "\n",
    "    Parameters:\n",
    "        symbols (list): List of symbols to retrieve prices for.\n",
    "\n",
    "    Returns:\n",
    "        pandas.DataFrame: DataFrame containing the retrieved prices.\n",
    "    \"\"\"\n",
    "    # Make a GET request to retrieve the data from Binance API\n",
    "    current_prices = requests.get('https://api.binance.us/api/v3/ticker/price')\n",
    "    data = current_prices.json()\n",
    "\n",
    "    # Collect the prices for the specified symbols\n",
    "    prices = {}\n",
    "    for item in data:\n",
    "        symbol = item['symbol']\n",
    "        price = item['price']\n",
    "        if symbol in symbols:\n",
    "            prices[symbol] = price\n",
    "\n",
    "   # Create a DataFrame from the collected prices\n",
    "    todays_prices_binance = pd.DataFrame(prices.items(), columns=[\"Symbol\", \"Price\"])\n",
    "\n",
    "    return todays_prices_binance\n",
    "\n",
    "# Specify the symbols you want to retrieve prices for\n",
    "symbols = [\"BTCUSD\", \"ETHUSD\", \"DOGEUSD\", \"LTCUSD\", \"ADAUSD\", \"USDTUSD\"]\n",
    "\n",
    "# Call the function to retrieve the prices and store in a variable\n",
    "prices_binance = get_binance_prices(symbols)\n",
    "prices_binance[\"Price\"] = pd.to_numeric(prices_binance[\"Price\"])\n",
    "prices_binance[\"Price\"] = prices_binance[\"Price\"].apply('${:,.2f}'.format)\n",
    "\n",
    "# Print the retrieved prices\n",
    "prices_binance"
   ]
  }
 ],
 "metadata": {
  "kernelspec": {
   "display_name": "Python 3 (ipykernel)",
   "language": "python",
   "name": "python3"
  },
  "language_info": {
   "codemirror_mode": {
    "name": "ipython",
    "version": 3
   },
   "file_extension": ".py",
   "mimetype": "text/x-python",
   "name": "python",
   "nbconvert_exporter": "python",
   "pygments_lexer": "ipython3",
   "version": "3.10.9"
  }
 },
 "nbformat": 4,
 "nbformat_minor": 5
}
